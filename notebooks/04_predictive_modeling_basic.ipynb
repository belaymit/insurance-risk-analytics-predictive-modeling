{
  "cells": [
    {
      "cell_type": "raw",
      "metadata": {
        "vscode": {
          "languageId": "raw"
        }
      },
      "source": [
        "# Task 4: Predictive Modeling for Risk-Based Pricing (Basic Version)\n",
        "\n",
        "## Overview\n",
        "This notebook implements predictive models for a dynamic, risk-based pricing system using only basic libraries available in the system:\n",
        "\n",
        "1. **Claim Severity Prediction**: Predict TotalClaims amount for policies with claims > 0\n",
        "2. **Premium Optimization**: Predict claim probability and appropriate premium\n",
        "\n",
        "## Modeling Pipeline\n",
        "- Data Preparation (missing data, feature engineering)\n",
        "- Basic Model Implementation (Linear Regression, Logistic Regression)\n",
        "- Model Evaluation (RMSE, R², accuracy, precision, recall, F1-score)\n",
        "- Feature Importance Analysis (correlation-based)\n",
        "- Model Comparison Report\n",
        "\n",
        "**Note**: This is a simplified version that works with basic libraries. The full version with XGBoost, Random Forest, and SHAP is available in `04_predictive_modeling.ipynb` when advanced ML libraries are installed.\n"
      ]
    },
    {
      "cell_type": "code",
      "execution_count": 1,
      "metadata": {},
      "outputs": [
        {
          "name": "stdout",
          "output_type": "stream",
          "text": [
            "Basic libraries imported successfully!\n",
            "Available libraries: pandas, numpy, matplotlib\n",
            "Note: This version uses basic implementations of ML algorithms\n"
          ]
        }
      ],
      "source": [
        "# Import necessary libraries (basic version)\n",
        "import pandas as pd\n",
        "import numpy as np\n",
        "import matplotlib.pyplot as plt\n",
        "import warnings\n",
        "warnings.filterwarnings('ignore')\n",
        "\n",
        "# Set random state for reproducibility\n",
        "RANDOM_STATE = 42\n",
        "np.random.seed(RANDOM_STATE)\n",
        "\n",
        "# Configure matplotlib\n",
        "plt.style.use('default')\n",
        "plt.rcParams['figure.figsize'] = (12, 8)\n",
        "plt.rcParams['font.size'] = 10\n",
        "\n",
        "print(\"Basic libraries imported successfully!\")\n",
        "print(\"Available libraries: pandas, numpy, matplotlib\")\n",
        "print(\"Note: This version uses basic implementations of ML algorithms\")\n"
      ]
    },
    {
      "cell_type": "raw",
      "metadata": {
        "vscode": {
          "languageId": "raw"
        }
      },
      "source": [
        "## 1. Data Loading and Initial Exploration\n"
      ]
    },
    {
      "cell_type": "code",
      "execution_count": 2,
      "metadata": {},
      "outputs": [
        {
          "name": "stdout",
          "output_type": "stream",
          "text": [
            "Loading dataset...\n",
            "Dataset shape: (1000098, 52)\n",
            "Memory usage: 2377.38 MB\n",
            "\n",
            "Dataset Info:\n",
            "Total records: 1,000,098\n",
            "Total features: 52\n",
            "\n",
            "Target variables analysis:\n",
            "TotalClaims - Range: -12002.41 to 393092.11\n",
            "TotalClaims - Mean: 64.86\n",
            "Records with claims > 0: 2,788 (0.28%)\n",
            "\n",
            "TotalPremium - Range: -782.58 to 65282.60\n",
            "TotalPremium - Mean: 61.91\n"
          ]
        }
      ],
      "source": [
        "# Load the dataset\n",
        "print(\"Loading dataset...\")\n",
        "df = pd.read_csv('../MachineLearningRating_v3.txt', delimiter='|', low_memory=False)\n",
        "\n",
        "print(f\"Dataset shape: {df.shape}\")\n",
        "print(f\"Memory usage: {df.memory_usage(deep=True).sum() / 1024**2:.2f} MB\")\n",
        "print(\"\\nDataset Info:\")\n",
        "print(f\"Total records: {len(df):,}\")\n",
        "print(f\"Total features: {len(df.columns)}\")\n",
        "print(f\"\\nTarget variables analysis:\")\n",
        "print(f\"TotalClaims - Range: {df['TotalClaims'].min():.2f} to {df['TotalClaims'].max():.2f}\")\n",
        "print(f\"TotalClaims - Mean: {df['TotalClaims'].mean():.2f}\")\n",
        "print(f\"Records with claims > 0: {(df['TotalClaims'] > 0).sum():,} ({(df['TotalClaims'] > 0).mean()*100:.2f}%)\")\n",
        "print(f\"\\nTotalPremium - Range: {df['TotalPremium'].min():.2f} to {df['TotalPremium'].max():.2f}\")\n",
        "print(f\"TotalPremium - Mean: {df['TotalPremium'].mean():.2f}\")\n"
      ]
    },
    {
      "cell_type": "raw",
      "metadata": {
        "vscode": {
          "languageId": "raw"
        }
      },
      "source": [
        "## 2. Feature Engineering\n"
      ]
    },
    {
      "cell_type": "code",
      "execution_count": 4,
      "metadata": {},
      "outputs": [
        {
          "name": "stdout",
          "output_type": "stream",
          "text": [
            "Loading dataset...\n",
            "Dataset shape: (1000098, 52)\n",
            "Memory usage: 2377.38 MB\n",
            "\n",
            "First few rows:\n",
            "   UnderwrittenCoverID  PolicyID     TransactionMonth  IsVATRegistered  \\\n",
            "0               145249     12827  2015-03-01 00:00:00             True   \n",
            "1               145249     12827  2015-05-01 00:00:00             True   \n",
            "2               145249     12827  2015-07-01 00:00:00             True   \n",
            "3               145255     12827  2015-05-01 00:00:00             True   \n",
            "4               145255     12827  2015-07-01 00:00:00             True   \n",
            "\n",
            "  Citizenship          LegalType Title Language                 Bank  \\\n",
            "0              Close Corporation    Mr  English  First National Bank   \n",
            "1              Close Corporation    Mr  English  First National Bank   \n",
            "2              Close Corporation    Mr  English  First National Bank   \n",
            "3              Close Corporation    Mr  English  First National Bank   \n",
            "4              Close Corporation    Mr  English  First National Bank   \n",
            "\n",
            "       AccountType  ...                    ExcessSelected CoverCategory  \\\n",
            "0  Current account  ...             Mobility - Windscreen    Windscreen   \n",
            "1  Current account  ...             Mobility - Windscreen    Windscreen   \n",
            "2  Current account  ...             Mobility - Windscreen    Windscreen   \n",
            "3  Current account  ...  Mobility - Metered Taxis - R2000    Own damage   \n",
            "4  Current account  ...  Mobility - Metered Taxis - R2000    Own damage   \n",
            "\n",
            "    CoverType            CoverGroup              Section  \\\n",
            "0  Windscreen  Comprehensive - Taxi  Motor Comprehensive   \n",
            "1  Windscreen  Comprehensive - Taxi  Motor Comprehensive   \n",
            "2  Windscreen  Comprehensive - Taxi  Motor Comprehensive   \n",
            "3  Own Damage  Comprehensive - Taxi  Motor Comprehensive   \n",
            "4  Own Damage  Comprehensive - Taxi  Motor Comprehensive   \n",
            "\n",
            "                           Product StatutoryClass StatutoryRiskType  \\\n",
            "0  Mobility Metered Taxis: Monthly     Commercial     IFRS Constant   \n",
            "1  Mobility Metered Taxis: Monthly     Commercial     IFRS Constant   \n",
            "2  Mobility Metered Taxis: Monthly     Commercial     IFRS Constant   \n",
            "3  Mobility Metered Taxis: Monthly     Commercial     IFRS Constant   \n",
            "4  Mobility Metered Taxis: Monthly     Commercial     IFRS Constant   \n",
            "\n",
            "   TotalPremium TotalClaims  \n",
            "0     21.929825         0.0  \n",
            "1     21.929825         0.0  \n",
            "2      0.000000         0.0  \n",
            "3    512.848070         0.0  \n",
            "4      0.000000         0.0  \n",
            "\n",
            "[5 rows x 52 columns]\n"
          ]
        }
      ],
      "source": [
        "# Load the dataset\n",
        "print(\"Loading dataset...\")\n",
        "df = pd.read_csv('../MachineLearningRating_v3.txt', delimiter='|', low_memory=False)\n",
        "\n",
        "print(f\"Dataset shape: {df.shape}\")\n",
        "print(f\"Memory usage: {df.memory_usage(deep=True).sum() / 1024**2:.2f} MB\")\n",
        "print(\"\\nFirst few rows:\")\n",
        "print(df.head())"
      ]
    }
  ],
  "metadata": {
    "kernelspec": {
      "display_name": "Python 3",
      "language": "python",
      "name": "python3"
    },
    "language_info": {
      "codemirror_mode": {
        "name": "ipython",
        "version": 3
      },
      "file_extension": ".py",
      "mimetype": "text/x-python",
      "name": "python",
      "nbconvert_exporter": "python",
      "pygments_lexer": "ipython3",
      "version": "3.11.4"
    }
  },
  "nbformat": 4,
  "nbformat_minor": 2
}
