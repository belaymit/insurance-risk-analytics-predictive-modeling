{
  "cells": [
    {
      "cell_type": "raw",
      "metadata": {
        "vscode": {
          "languageId": "raw"
        }
      },
      "source": [
        "# Insurance Risk Analytics - Exploratory Data Analysis\n",
        "\n",
        "## Executive Summary\n",
        "This notebook performs comprehensive Exploratory Data Analysis (EDA) on insurance data to understand:\n",
        "- Overall Loss Ratio patterns across different segments\n",
        "- Distribution of financial variables and outlier detection\n",
        "- Temporal trends in claims and premiums\n",
        "- Vehicle characteristics impact on risk\n",
        "\n",
        "## Key Questions to Answer:\n",
        "1. **What is the overall Loss Ratio (TotalClaims / TotalPremium) for the portfolio? How does it vary by Province, VehicleType, and Gender?**\n",
        "2. **What are the distributions of key financial variables? Are there outliers in TotalClaims or CustomValueEstimate?**\n",
        "3. **Are there temporal trends? Did claim frequency or severity change over the 18-month period?**\n",
        "4. **Which vehicle makes/models are associated with the highest and lowest claim amounts?**\n",
        "\n",
        "---\n",
        "\n",
        "*Author: Data Science Team*  \n",
        "*Date: November 2024*  \n",
        "*Version: 1.0*\n"
      ]
    },
    {
      "cell_type": "code",
      "execution_count": null,
      "metadata": {},
      "outputs": [
        {
          "name": "stdout",
          "output_type": "stream",
          "text": [
            "✅ Libraries imported successfully!\n"
          ]
        }
      ],
      "source": [
        "# Import required libraries\n",
        "import pandas as pd\n",
        "import numpy as np\n",
        "import matplotlib.pyplot as plt\n",
        "import seaborn as sns\n",
        "import plotly.express as px\n",
        "import plotly.graph_objects as go\n",
        "from plotly.subplots import make_subplots\n",
        "import warnings\n",
        "from datetime import datetime\n",
        "from scipy import stats\n",
        "from scipy.stats import chi2_contingency, normaltest, skew, kurtosis\n",
        "\n",
        "# Configure display options\n",
        "pd.set_option('display.max_columns', None)\n",
        "pd.set_option('display.max_rows', 100)\n",
        "plt.style.use('seaborn')\n",
        "sns.set_palette(\"husl\")\n",
        "warnings.filterwarnings('ignore')\n",
        "\n",
        "print(\"Libraries imported successfully!\")\n"
      ]
    },
    {
      "cell_type": "raw",
      "metadata": {
        "vscode": {
          "languageId": "raw"
        }
      },
      "source": [
        "## 📁 Data Loading and Initial Inspection\n",
        "\n",
        "Let's start by loading our insurance dataset and performing initial data quality checks.\n"
      ]
    },
    {
      "cell_type": "code",
      "execution_count": null,
      "metadata": {},
      "outputs": [
        {
          "name": "stdout",
          "output_type": "stream",
          "text": [
            "📊 Dataset Shape: (10000, 19)\n",
            "📅 Data Types: {dtype('O'): 9, dtype('int64'): 5, dtype('float64'): 5}\n",
            "💾 Memory Usage: 6.23 MB\n",
            "\n",
            "🔍 First 5 rows of the dataset:\n"
          ]
        },
        {
          "data": {
            "text/html": [
              "<div>\n",
              "<style scoped>\n",
              "    .dataframe tbody tr th:only-of-type {\n",
              "        vertical-align: middle;\n",
              "    }\n",
              "\n",
              "    .dataframe tbody tr th {\n",
              "        vertical-align: top;\n",
              "    }\n",
              "\n",
              "    .dataframe thead th {\n",
              "        text-align: right;\n",
              "    }\n",
              "</style>\n",
              "<table border=\"1\" class=\"dataframe\">\n",
              "  <thead>\n",
              "    <tr style=\"text-align: right;\">\n",
              "      <th></th>\n",
              "      <th>PolicyID</th>\n",
              "      <th>Province</th>\n",
              "      <th>PostalCode</th>\n",
              "      <th>ZipCode</th>\n",
              "      <th>Gender</th>\n",
              "      <th>Age</th>\n",
              "      <th>VehicleType</th>\n",
              "      <th>VehicleMake</th>\n",
              "      <th>VehicleYear</th>\n",
              "      <th>CoverType</th>\n",
              "      <th>TotalPremium</th>\n",
              "      <th>TotalClaims</th>\n",
              "      <th>CustomValueEstimate</th>\n",
              "      <th>TransactionMonth</th>\n",
              "      <th>TransactionDate</th>\n",
              "      <th>LossRatio</th>\n",
              "      <th>HasClaim</th>\n",
              "      <th>VehicleAge</th>\n",
              "      <th>ClaimFrequency</th>\n",
              "    </tr>\n",
              "  </thead>\n",
              "  <tbody>\n",
              "    <tr>\n",
              "      <th>0</th>\n",
              "      <td>POL1000000</td>\n",
              "      <td>Quebec</td>\n",
              "      <td>U1A</td>\n",
              "      <td>46048</td>\n",
              "      <td>Female</td>\n",
              "      <td>46.0</td>\n",
              "      <td>Sedan</td>\n",
              "      <td>Ford</td>\n",
              "      <td>2016</td>\n",
              "      <td>Basic</td>\n",
              "      <td>733.74</td>\n",
              "      <td>0.00</td>\n",
              "      <td>3121.34</td>\n",
              "      <td>2022-11</td>\n",
              "      <td>2022-11-05</td>\n",
              "      <td>0.000000</td>\n",
              "      <td>0</td>\n",
              "      <td>7</td>\n",
              "      <td>0</td>\n",
              "    </tr>\n",
              "    <tr>\n",
              "      <th>1</th>\n",
              "      <td>POL1000001</td>\n",
              "      <td>Alberta</td>\n",
              "      <td>H3E</td>\n",
              "      <td>23434</td>\n",
              "      <td>Female</td>\n",
              "      <td>38.3</td>\n",
              "      <td>Sedan</td>\n",
              "      <td>Mazda</td>\n",
              "      <td>2014</td>\n",
              "      <td>Premium</td>\n",
              "      <td>877.52</td>\n",
              "      <td>1926.78</td>\n",
              "      <td>2408.48</td>\n",
              "      <td>2023-05</td>\n",
              "      <td>2023-05-26</td>\n",
              "      <td>2.195711</td>\n",
              "      <td>1</td>\n",
              "      <td>9</td>\n",
              "      <td>1</td>\n",
              "    </tr>\n",
              "    <tr>\n",
              "      <th>2</th>\n",
              "      <td>POL1000002</td>\n",
              "      <td>Quebec</td>\n",
              "      <td>V8C</td>\n",
              "      <td>87397</td>\n",
              "      <td>Male</td>\n",
              "      <td>34.9</td>\n",
              "      <td>Coupe</td>\n",
              "      <td>Ford</td>\n",
              "      <td>2021</td>\n",
              "      <td>Premium</td>\n",
              "      <td>1186.29</td>\n",
              "      <td>0.00</td>\n",
              "      <td>11460.12</td>\n",
              "      <td>2022-01</td>\n",
              "      <td>2022-01-21</td>\n",
              "      <td>0.000000</td>\n",
              "      <td>0</td>\n",
              "      <td>2</td>\n",
              "      <td>0</td>\n",
              "    </tr>\n",
              "    <tr>\n",
              "      <th>3</th>\n",
              "      <td>POL1000003</td>\n",
              "      <td>Ontario</td>\n",
              "      <td>N0A</td>\n",
              "      <td>22280</td>\n",
              "      <td>Male</td>\n",
              "      <td>31.1</td>\n",
              "      <td>Van</td>\n",
              "      <td>Honda</td>\n",
              "      <td>2019</td>\n",
              "      <td>Basic</td>\n",
              "      <td>779.73</td>\n",
              "      <td>0.00</td>\n",
              "      <td>8589.55</td>\n",
              "      <td>2023-03</td>\n",
              "      <td>2023-03-31</td>\n",
              "      <td>0.000000</td>\n",
              "      <td>0</td>\n",
              "      <td>4</td>\n",
              "      <td>0</td>\n",
              "    </tr>\n",
              "    <tr>\n",
              "      <th>4</th>\n",
              "      <td>POL1000004</td>\n",
              "      <td>Quebec</td>\n",
              "      <td>G3Q</td>\n",
              "      <td>88907</td>\n",
              "      <td>Male</td>\n",
              "      <td>53.6</td>\n",
              "      <td>Sedan</td>\n",
              "      <td>Chevrolet</td>\n",
              "      <td>2011</td>\n",
              "      <td>Basic</td>\n",
              "      <td>621.76</td>\n",
              "      <td>2464.99</td>\n",
              "      <td>3081.24</td>\n",
              "      <td>2022-06</td>\n",
              "      <td>2022-06-11</td>\n",
              "      <td>3.964536</td>\n",
              "      <td>1</td>\n",
              "      <td>12</td>\n",
              "      <td>1</td>\n",
              "    </tr>\n",
              "  </tbody>\n",
              "</table>\n",
              "</div>"
            ],
            "text/plain": [
              "     PolicyID Province PostalCode  ZipCode  Gender   Age VehicleType  \\\n",
              "0  POL1000000   Quebec        U1A    46048  Female  46.0       Sedan   \n",
              "1  POL1000001  Alberta        H3E    23434  Female  38.3       Sedan   \n",
              "2  POL1000002   Quebec        V8C    87397    Male  34.9       Coupe   \n",
              "3  POL1000003  Ontario        N0A    22280    Male  31.1         Van   \n",
              "4  POL1000004   Quebec        G3Q    88907    Male  53.6       Sedan   \n",
              "\n",
              "  VehicleMake  VehicleYear CoverType  TotalPremium  TotalClaims  \\\n",
              "0        Ford         2016     Basic        733.74         0.00   \n",
              "1       Mazda         2014   Premium        877.52      1926.78   \n",
              "2        Ford         2021   Premium       1186.29         0.00   \n",
              "3       Honda         2019     Basic        779.73         0.00   \n",
              "4   Chevrolet         2011     Basic        621.76      2464.99   \n",
              "\n",
              "   CustomValueEstimate TransactionMonth TransactionDate  LossRatio  HasClaim  \\\n",
              "0              3121.34          2022-11      2022-11-05   0.000000         0   \n",
              "1              2408.48          2023-05      2023-05-26   2.195711         1   \n",
              "2             11460.12          2022-01      2022-01-21   0.000000         0   \n",
              "3              8589.55          2023-03      2023-03-31   0.000000         0   \n",
              "4              3081.24          2022-06      2022-06-11   3.964536         1   \n",
              "\n",
              "   VehicleAge  ClaimFrequency  \n",
              "0           7               0  \n",
              "1           9               1  \n",
              "2           2               0  \n",
              "3           4               0  \n",
              "4          12               1  "
            ]
          },
          "metadata": {},
          "output_type": "display_data"
        },
        {
          "name": "stdout",
          "output_type": "stream",
          "text": [
            "\n",
            "📋 Dataset Information:\n",
            "<class 'pandas.core.frame.DataFrame'>\n",
            "RangeIndex: 10000 entries, 0 to 9999\n",
            "Data columns (total 19 columns):\n",
            " #   Column               Non-Null Count  Dtype  \n",
            "---  ------               --------------  -----  \n",
            " 0   PolicyID             10000 non-null  object \n",
            " 1   Province             10000 non-null  object \n",
            " 2   PostalCode           10000 non-null  object \n",
            " 3   ZipCode              10000 non-null  int64  \n",
            " 4   Gender               10000 non-null  object \n",
            " 5   Age                  10000 non-null  float64\n",
            " 6   VehicleType          10000 non-null  object \n",
            " 7   VehicleMake          10000 non-null  object \n",
            " 8   VehicleYear          10000 non-null  int64  \n",
            " 9   CoverType            10000 non-null  object \n",
            " 10  TotalPremium         10000 non-null  float64\n",
            " 11  TotalClaims          10000 non-null  float64\n",
            " 12  CustomValueEstimate  10000 non-null  float64\n",
            " 13  TransactionMonth     10000 non-null  object \n",
            " 14  TransactionDate      10000 non-null  object \n",
            " 15  LossRatio            10000 non-null  float64\n",
            " 16  HasClaim             10000 non-null  int64  \n",
            " 17  VehicleAge           10000 non-null  int64  \n",
            " 18  ClaimFrequency       10000 non-null  int64  \n",
            "dtypes: float64(5), int64(5), object(9)\n",
            "memory usage: 1.4+ MB\n"
          ]
        }
      ],
      "source": [
        "# Load the insurance dataset\n",
        "df = pd.read_csv('../data/raw/insurance_data.csv')\n",
        "\n",
        "print(f\"Dataset Shape: {df.shape}\")\n",
        "print(f\"Data Types: {df.dtypes.value_counts().to_dict()}\")\n",
        "print(f\"Memory Usage: {df.memory_usage(deep=True).sum() / 1024**2:.2f} MB\")\n",
        "\n",
        "# Display first few rows\n",
        "print(\"\\nFirst 5 rows of the dataset:\")\n",
        "display(df.head())\n",
        "\n",
        "print(\"\\nDataset Information:\")\n",
        "df.info()\n"
      ]
    },
    {
      "cell_type": "raw",
      "metadata": {
        "vscode": {
          "languageId": "raw"
        }
      },
      "source": [
        "## 🔍 Data Quality Assessment\n",
        "\n",
        "Let's examine data quality by checking for missing values, data types, and basic statistical summaries.\n"
      ]
    },
    {
      "cell_type": "code",
      "execution_count": null,
      "metadata": {},
      "outputs": [
        {
          "name": "stdout",
          "output_type": "stream",
          "text": [
            "🔍 Missing Values Analysis:\n",
            "Empty DataFrame\n",
            "Columns: [Missing Count, Missing Percentage]\n",
            "Index: []\n",
            "✅ No missing values found in the dataset!\n",
            "\n",
            "🔄 Duplicate Records: 0\n",
            "\n",
            "📊 Data Types Verification:\n",
            "PolicyID             | object       | Unique Values: 10000\n",
            "Province             | object       | Unique Values: 9\n",
            "PostalCode           | object       | Unique Values: 5218\n",
            "ZipCode              | int64        | Unique Values: 9474\n",
            "Gender               | object       | Unique Values: 3\n",
            "Age                  | float64      | Unique Values: 557\n",
            "VehicleType          | object       | Unique Values: 7\n",
            "VehicleMake          | object       | Unique Values: 12\n",
            "VehicleYear          | int64        | Unique Values: 13\n",
            "CoverType            | object       | Unique Values: 3\n",
            "TotalPremium         | float64      | Unique Values: 9439\n",
            "TotalClaims          | float64      | Unique Values: 1476\n",
            "CustomValueEstimate  | float64      | Unique Values: 9868\n",
            "TransactionMonth     | object       | Unique Values: 19\n",
            "TransactionDate      | datetime64[ns] | Unique Values: 547\n",
            "LossRatio            | float64      | Unique Values: 1532\n",
            "HasClaim             | int64        | Unique Values: 2\n",
            "VehicleAge           | int64        | Unique Values: 13\n",
            "ClaimFrequency       | int64        | Unique Values: 2\n",
            "Year_Month           | period[M]    | Unique Values: 19\n"
          ]
        }
      ],
      "source": [
        "# Data Quality Assessment\n",
        "print(\"🔍 Missing Values Analysis:\")\n",
        "missing_data = df.isnull().sum()\n",
        "missing_percentage = (df.isnull().sum() / len(df)) * 100\n",
        "missing_summary = pd.DataFrame({\n",
        "    'Missing Count': missing_data,\n",
        "    'Missing Percentage': missing_percentage\n",
        "}).sort_values('Missing Count', ascending=False)\n",
        "\n",
        "print(missing_summary[missing_summary['Missing Count'] > 0])\n",
        "\n",
        "if missing_summary['Missing Count'].sum() == 0:\n",
        "    print(\"No missing values found in the dataset!\")\n",
        "\n",
        "# Check for duplicate records\n",
        "duplicates = df.duplicated().sum()\n",
        "print(f\"\\nDuplicate Records: {duplicates}\")\n",
        "\n",
        "# Data type verification\n",
        "print(\"\\nData Types Verification:\")\n",
        "for col in df.columns:\n",
        "    dtype = df[col].dtype\n",
        "    unique_count = df[col].nunique()\n",
        "    print(f\"{col:20} | {str(dtype):12} | Unique Values: {unique_count}\")\n"
      ]
    },
    {
      "cell_type": "code",
      "execution_count": null,
      "metadata": {},
      "outputs": [
        {
          "name": "stdout",
          "output_type": "stream",
          "text": [
            "📈 Descriptive Statistics for Numerical Variables:\n"
          ]
        },
        {
          "data": {
            "text/html": [
              "<div>\n",
              "<style scoped>\n",
              "    .dataframe tbody tr th:only-of-type {\n",
              "        vertical-align: middle;\n",
              "    }\n",
              "\n",
              "    .dataframe tbody tr th {\n",
              "        vertical-align: top;\n",
              "    }\n",
              "\n",
              "    .dataframe thead th {\n",
              "        text-align: right;\n",
              "    }\n",
              "</style>\n",
              "<table border=\"1\" class=\"dataframe\">\n",
              "  <thead>\n",
              "    <tr style=\"text-align: right;\">\n",
              "      <th></th>\n",
              "      <th>ZipCode</th>\n",
              "      <th>Age</th>\n",
              "      <th>VehicleYear</th>\n",
              "      <th>TotalPremium</th>\n",
              "      <th>TotalClaims</th>\n",
              "      <th>CustomValueEstimate</th>\n",
              "      <th>LossRatio</th>\n",
              "      <th>HasClaim</th>\n",
              "      <th>VehicleAge</th>\n",
              "      <th>ClaimFrequency</th>\n",
              "    </tr>\n",
              "  </thead>\n",
              "  <tbody>\n",
              "    <tr>\n",
              "      <th>count</th>\n",
              "      <td>1.000000e+04</td>\n",
              "      <td>10000.0000</td>\n",
              "      <td>10000.0000</td>\n",
              "      <td>10000.0000</td>\n",
              "      <td>1.000000e+04</td>\n",
              "      <td>1.000000e+04</td>\n",
              "      <td>10000.0000</td>\n",
              "      <td>10000.0000</td>\n",
              "      <td>10000.0000</td>\n",
              "      <td>10000.0000</td>\n",
              "    </tr>\n",
              "    <tr>\n",
              "      <th>mean</th>\n",
              "      <td>5.532162e+04</td>\n",
              "      <td>40.2600</td>\n",
              "      <td>2015.9900</td>\n",
              "      <td>975.6700</td>\n",
              "      <td>3.235300e+02</td>\n",
              "      <td>6.554600e+03</td>\n",
              "      <td>0.3600</td>\n",
              "      <td>0.1500</td>\n",
              "      <td>7.0100</td>\n",
              "      <td>0.1500</td>\n",
              "    </tr>\n",
              "    <tr>\n",
              "      <th>std</th>\n",
              "      <td>2.620149e+04</td>\n",
              "      <td>11.4800</td>\n",
              "      <td>3.7300</td>\n",
              "      <td>302.6300</td>\n",
              "      <td>1.021590e+03</td>\n",
              "      <td>5.261590e+03</td>\n",
              "      <td>1.1700</td>\n",
              "      <td>0.3600</td>\n",
              "      <td>3.7300</td>\n",
              "      <td>0.3600</td>\n",
              "    </tr>\n",
              "    <tr>\n",
              "      <th>min</th>\n",
              "      <td>1.000700e+04</td>\n",
              "      <td>18.0000</td>\n",
              "      <td>2010.0000</td>\n",
              "      <td>426.0900</td>\n",
              "      <td>0.000000e+00</td>\n",
              "      <td>2.400120e+03</td>\n",
              "      <td>0.0000</td>\n",
              "      <td>0.0000</td>\n",
              "      <td>1.0000</td>\n",
              "      <td>0.0000</td>\n",
              "    </tr>\n",
              "    <tr>\n",
              "      <th>25%</th>\n",
              "      <td>3.197950e+04</td>\n",
              "      <td>32.2000</td>\n",
              "      <td>2013.0000</td>\n",
              "      <td>759.0800</td>\n",
              "      <td>0.000000e+00</td>\n",
              "      <td>3.085330e+03</td>\n",
              "      <td>0.0000</td>\n",
              "      <td>0.0000</td>\n",
              "      <td>4.0000</td>\n",
              "      <td>0.0000</td>\n",
              "    </tr>\n",
              "    <tr>\n",
              "      <th>50%</th>\n",
              "      <td>5.590550e+04</td>\n",
              "      <td>40.2000</td>\n",
              "      <td>2016.0000</td>\n",
              "      <td>917.8300</td>\n",
              "      <td>0.000000e+00</td>\n",
              "      <td>3.610290e+03</td>\n",
              "      <td>0.0000</td>\n",
              "      <td>0.0000</td>\n",
              "      <td>7.0000</td>\n",
              "      <td>0.0000</td>\n",
              "    </tr>\n",
              "    <tr>\n",
              "      <th>75%</th>\n",
              "      <td>7.814525e+04</td>\n",
              "      <td>48.0000</td>\n",
              "      <td>2019.0000</td>\n",
              "      <td>1123.3400</td>\n",
              "      <td>0.000000e+00</td>\n",
              "      <td>9.096950e+03</td>\n",
              "      <td>0.0000</td>\n",
              "      <td>0.0000</td>\n",
              "      <td>10.0000</td>\n",
              "      <td>0.0000</td>\n",
              "    </tr>\n",
              "    <tr>\n",
              "      <th>max</th>\n",
              "      <td>9.999800e+04</td>\n",
              "      <td>80.0000</td>\n",
              "      <td>2022.0000</td>\n",
              "      <td>2913.1500</td>\n",
              "      <td>1.275401e+04</td>\n",
              "      <td>2.548512e+04</td>\n",
              "      <td>18.9800</td>\n",
              "      <td>1.0000</td>\n",
              "      <td>13.0000</td>\n",
              "      <td>1.0000</td>\n",
              "    </tr>\n",
              "    <tr>\n",
              "      <th>skewness</th>\n",
              "      <td>-2.240000e-02</td>\n",
              "      <td>0.1738</td>\n",
              "      <td>0.0055</td>\n",
              "      <td>1.2763</td>\n",
              "      <td>4.692600e+00</td>\n",
              "      <td>1.434200e+00</td>\n",
              "      <td>5.0658</td>\n",
              "      <td>1.9271</td>\n",
              "      <td>-0.0055</td>\n",
              "      <td>1.9271</td>\n",
              "    </tr>\n",
              "    <tr>\n",
              "      <th>kurtosis</th>\n",
              "      <td>-1.225600e+00</td>\n",
              "      <td>-0.2462</td>\n",
              "      <td>-1.2053</td>\n",
              "      <td>2.4637</td>\n",
              "      <td>2.990370e+01</td>\n",
              "      <td>9.350000e-01</td>\n",
              "      <td>37.4892</td>\n",
              "      <td>1.7139</td>\n",
              "      <td>-1.2053</td>\n",
              "      <td>1.7139</td>\n",
              "    </tr>\n",
              "    <tr>\n",
              "      <th>variance</th>\n",
              "      <td>6.865183e+08</td>\n",
              "      <td>131.8980</td>\n",
              "      <td>13.9196</td>\n",
              "      <td>91585.5172</td>\n",
              "      <td>1.043653e+06</td>\n",
              "      <td>2.768434e+07</td>\n",
              "      <td>1.3654</td>\n",
              "      <td>0.1297</td>\n",
              "      <td>13.9196</td>\n",
              "      <td>0.1297</td>\n",
              "    </tr>\n",
              "  </tbody>\n",
              "</table>\n",
              "</div>"
            ],
            "text/plain": [
              "               ZipCode         Age  VehicleYear  TotalPremium   TotalClaims  \\\n",
              "count     1.000000e+04  10000.0000   10000.0000    10000.0000  1.000000e+04   \n",
              "mean      5.532162e+04     40.2600    2015.9900      975.6700  3.235300e+02   \n",
              "std       2.620149e+04     11.4800       3.7300      302.6300  1.021590e+03   \n",
              "min       1.000700e+04     18.0000    2010.0000      426.0900  0.000000e+00   \n",
              "25%       3.197950e+04     32.2000    2013.0000      759.0800  0.000000e+00   \n",
              "50%       5.590550e+04     40.2000    2016.0000      917.8300  0.000000e+00   \n",
              "75%       7.814525e+04     48.0000    2019.0000     1123.3400  0.000000e+00   \n",
              "max       9.999800e+04     80.0000    2022.0000     2913.1500  1.275401e+04   \n",
              "skewness -2.240000e-02      0.1738       0.0055        1.2763  4.692600e+00   \n",
              "kurtosis -1.225600e+00     -0.2462      -1.2053        2.4637  2.990370e+01   \n",
              "variance  6.865183e+08    131.8980      13.9196    91585.5172  1.043653e+06   \n",
              "\n",
              "          CustomValueEstimate   LossRatio    HasClaim  VehicleAge  \\\n",
              "count            1.000000e+04  10000.0000  10000.0000  10000.0000   \n",
              "mean             6.554600e+03      0.3600      0.1500      7.0100   \n",
              "std              5.261590e+03      1.1700      0.3600      3.7300   \n",
              "min              2.400120e+03      0.0000      0.0000      1.0000   \n",
              "25%              3.085330e+03      0.0000      0.0000      4.0000   \n",
              "50%              3.610290e+03      0.0000      0.0000      7.0000   \n",
              "75%              9.096950e+03      0.0000      0.0000     10.0000   \n",
              "max              2.548512e+04     18.9800      1.0000     13.0000   \n",
              "skewness         1.434200e+00      5.0658      1.9271     -0.0055   \n",
              "kurtosis         9.350000e-01     37.4892      1.7139     -1.2053   \n",
              "variance         2.768434e+07      1.3654      0.1297     13.9196   \n",
              "\n",
              "          ClaimFrequency  \n",
              "count         10000.0000  \n",
              "mean              0.1500  \n",
              "std               0.3600  \n",
              "min               0.0000  \n",
              "25%               0.0000  \n",
              "50%               0.0000  \n",
              "75%               0.0000  \n",
              "max               1.0000  \n",
              "skewness          1.9271  \n",
              "kurtosis          1.7139  \n",
              "variance          0.1297  "
            ]
          },
          "metadata": {},
          "output_type": "display_data"
        }
      ],
      "source": [
        "# Descriptive Statistics for Numerical Variables\n",
        "print(\"Descriptive Statistics for Numerical Variables:\")\n",
        "numerical_cols = df.select_dtypes(include=[np.number]).columns\n",
        "desc_stats = df[numerical_cols].describe()\n",
        "\n",
        "# Add additional statistical measures\n",
        "additional_stats = pd.DataFrame({\n",
        "    'skewness': df[numerical_cols].skew(),\n",
        "    'kurtosis': df[numerical_cols].kurtosis(),\n",
        "    'variance': df[numerical_cols].var()\n",
        "}).round(4)\n",
        "\n",
        "# Combine descriptive statistics\n",
        "full_stats = pd.concat([desc_stats.round(2), additional_stats.T], axis=0)\n",
        "display(full_stats)\n"
      ]
    },
    {
      "cell_type": "raw",
      "metadata": {
        "vscode": {
          "languageId": "raw"
        }
      },
      "source": [
        "## Key Question 1: Loss Ratio Analysis\n",
        "\n",
        "**What is the overall Loss Ratio (TotalClaims / TotalPremium) for the portfolio? How does it vary by Province, VehicleType, and Gender?**\n"
      ]
    },
    {
      "cell_type": "code",
      "execution_count": null,
      "metadata": {},
      "outputs": [
        {
          "name": "stdout",
          "output_type": "stream",
          "text": [
            "📊 Overall Portfolio Loss Ratio: 0.3316 (33.16%)\n",
            "\n",
            "🎯 Loss Ratio Analysis by Segments:\n",
            "\n",
            "📍 Loss Ratio by Province:\n"
          ]
        },
        {
          "data": {
            "text/html": [
              "<div>\n",
              "<style scoped>\n",
              "    .dataframe tbody tr th:only-of-type {\n",
              "        vertical-align: middle;\n",
              "    }\n",
              "\n",
              "    .dataframe tbody tr th {\n",
              "        vertical-align: top;\n",
              "    }\n",
              "\n",
              "    .dataframe thead th {\n",
              "        text-align: right;\n",
              "    }\n",
              "</style>\n",
              "<table border=\"1\" class=\"dataframe\">\n",
              "  <thead>\n",
              "    <tr style=\"text-align: right;\">\n",
              "      <th></th>\n",
              "      <th>Province</th>\n",
              "      <th>Total_Claims</th>\n",
              "      <th>Total_Premium</th>\n",
              "      <th>Policy_Count</th>\n",
              "      <th>Loss_Ratio</th>\n",
              "    </tr>\n",
              "  </thead>\n",
              "  <tbody>\n",
              "    <tr>\n",
              "      <th>3</th>\n",
              "      <td>New Brunswick</td>\n",
              "      <td>88453.37</td>\n",
              "      <td>169155.24</td>\n",
              "      <td>209</td>\n",
              "      <td>0.5229</td>\n",
              "    </tr>\n",
              "    <tr>\n",
              "      <th>8</th>\n",
              "      <td>Saskatchewan</td>\n",
              "      <td>110319.84</td>\n",
              "      <td>235356.42</td>\n",
              "      <td>308</td>\n",
              "      <td>0.4687</td>\n",
              "    </tr>\n",
              "    <tr>\n",
              "      <th>7</th>\n",
              "      <td>Quebec</td>\n",
              "      <td>797060.97</td>\n",
              "      <td>2005443.37</td>\n",
              "      <td>2258</td>\n",
              "      <td>0.3974</td>\n",
              "    </tr>\n",
              "    <tr>\n",
              "      <th>5</th>\n",
              "      <td>Nova Scotia</td>\n",
              "      <td>93717.68</td>\n",
              "      <td>243684.12</td>\n",
              "      <td>281</td>\n",
              "      <td>0.3846</td>\n",
              "    </tr>\n",
              "    <tr>\n",
              "      <th>2</th>\n",
              "      <td>Manitoba</td>\n",
              "      <td>110304.20</td>\n",
              "      <td>300062.95</td>\n",
              "      <td>374</td>\n",
              "      <td>0.3676</td>\n",
              "    </tr>\n",
              "    <tr>\n",
              "      <th>1</th>\n",
              "      <td>British Columbia</td>\n",
              "      <td>411907.83</td>\n",
              "      <td>1339814.61</td>\n",
              "      <td>1341</td>\n",
              "      <td>0.3074</td>\n",
              "    </tr>\n",
              "    <tr>\n",
              "      <th>6</th>\n",
              "      <td>Ontario</td>\n",
              "      <td>1291044.68</td>\n",
              "      <td>4230264.88</td>\n",
              "      <td>3901</td>\n",
              "      <td>0.3052</td>\n",
              "    </tr>\n",
              "    <tr>\n",
              "      <th>0</th>\n",
              "      <td>Alberta</td>\n",
              "      <td>315845.41</td>\n",
              "      <td>1167833.81</td>\n",
              "      <td>1233</td>\n",
              "      <td>0.2705</td>\n",
              "    </tr>\n",
              "    <tr>\n",
              "      <th>4</th>\n",
              "      <td>Newfoundland</td>\n",
              "      <td>16657.30</td>\n",
              "      <td>65119.71</td>\n",
              "      <td>95</td>\n",
              "      <td>0.2558</td>\n",
              "    </tr>\n",
              "  </tbody>\n",
              "</table>\n",
              "</div>"
            ],
            "text/plain": [
              "           Province  Total_Claims  Total_Premium  Policy_Count  Loss_Ratio\n",
              "3     New Brunswick      88453.37      169155.24           209      0.5229\n",
              "8      Saskatchewan     110319.84      235356.42           308      0.4687\n",
              "7            Quebec     797060.97     2005443.37          2258      0.3974\n",
              "5       Nova Scotia      93717.68      243684.12           281      0.3846\n",
              "2          Manitoba     110304.20      300062.95           374      0.3676\n",
              "1  British Columbia     411907.83     1339814.61          1341      0.3074\n",
              "6           Ontario    1291044.68     4230264.88          3901      0.3052\n",
              "0           Alberta     315845.41     1167833.81          1233      0.2705\n",
              "4      Newfoundland      16657.30       65119.71            95      0.2558"
            ]
          },
          "metadata": {},
          "output_type": "display_data"
        },
        {
          "name": "stdout",
          "output_type": "stream",
          "text": [
            "\n",
            "🚗 Loss Ratio by Vehicle Type:\n"
          ]
        },
        {
          "data": {
            "text/html": [
              "<div>\n",
              "<style scoped>\n",
              "    .dataframe tbody tr th:only-of-type {\n",
              "        vertical-align: middle;\n",
              "    }\n",
              "\n",
              "    .dataframe tbody tr th {\n",
              "        vertical-align: top;\n",
              "    }\n",
              "\n",
              "    .dataframe thead th {\n",
              "        text-align: right;\n",
              "    }\n",
              "</style>\n",
              "<table border=\"1\" class=\"dataframe\">\n",
              "  <thead>\n",
              "    <tr style=\"text-align: right;\">\n",
              "      <th></th>\n",
              "      <th>Vehicle_Type</th>\n",
              "      <th>Total_Claims</th>\n",
              "      <th>Total_Premium</th>\n",
              "      <th>Policy_Count</th>\n",
              "      <th>Loss_Ratio</th>\n",
              "    </tr>\n",
              "  </thead>\n",
              "  <tbody>\n",
              "    <tr>\n",
              "      <th>3</th>\n",
              "      <td>SUV</td>\n",
              "      <td>888033.64</td>\n",
              "      <td>2444935.53</td>\n",
              "      <td>2469</td>\n",
              "      <td>0.3632</td>\n",
              "    </tr>\n",
              "    <tr>\n",
              "      <th>5</th>\n",
              "      <td>Truck</td>\n",
              "      <td>315665.42</td>\n",
              "      <td>892779.40</td>\n",
              "      <td>801</td>\n",
              "      <td>0.3536</td>\n",
              "    </tr>\n",
              "    <tr>\n",
              "      <th>6</th>\n",
              "      <td>Van</td>\n",
              "      <td>168994.00</td>\n",
              "      <td>483280.33</td>\n",
              "      <td>477</td>\n",
              "      <td>0.3497</td>\n",
              "    </tr>\n",
              "    <tr>\n",
              "      <th>4</th>\n",
              "      <td>Sedan</td>\n",
              "      <td>1044827.56</td>\n",
              "      <td>3152625.24</td>\n",
              "      <td>3496</td>\n",
              "      <td>0.3314</td>\n",
              "    </tr>\n",
              "    <tr>\n",
              "      <th>2</th>\n",
              "      <td>Hatchback</td>\n",
              "      <td>430914.72</td>\n",
              "      <td>1327489.81</td>\n",
              "      <td>1551</td>\n",
              "      <td>0.3246</td>\n",
              "    </tr>\n",
              "    <tr>\n",
              "      <th>1</th>\n",
              "      <td>Coupe</td>\n",
              "      <td>258528.76</td>\n",
              "      <td>946913.70</td>\n",
              "      <td>802</td>\n",
              "      <td>0.2730</td>\n",
              "    </tr>\n",
              "    <tr>\n",
              "      <th>0</th>\n",
              "      <td>Convertible</td>\n",
              "      <td>128347.18</td>\n",
              "      <td>508711.10</td>\n",
              "      <td>404</td>\n",
              "      <td>0.2523</td>\n",
              "    </tr>\n",
              "  </tbody>\n",
              "</table>\n",
              "</div>"
            ],
            "text/plain": [
              "  Vehicle_Type  Total_Claims  Total_Premium  Policy_Count  Loss_Ratio\n",
              "3          SUV     888033.64     2444935.53          2469      0.3632\n",
              "5        Truck     315665.42      892779.40           801      0.3536\n",
              "6          Van     168994.00      483280.33           477      0.3497\n",
              "4        Sedan    1044827.56     3152625.24          3496      0.3314\n",
              "2    Hatchback     430914.72     1327489.81          1551      0.3246\n",
              "1        Coupe     258528.76      946913.70           802      0.2730\n",
              "0  Convertible     128347.18      508711.10           404      0.2523"
            ]
          },
          "metadata": {},
          "output_type": "display_data"
        },
        {
          "name": "stdout",
          "output_type": "stream",
          "text": [
            "\n",
            "👥 Loss Ratio by Gender:\n"
          ]
        },
        {
          "data": {
            "text/html": [
              "<div>\n",
              "<style scoped>\n",
              "    .dataframe tbody tr th:only-of-type {\n",
              "        vertical-align: middle;\n",
              "    }\n",
              "\n",
              "    .dataframe tbody tr th {\n",
              "        vertical-align: top;\n",
              "    }\n",
              "\n",
              "    .dataframe thead th {\n",
              "        text-align: right;\n",
              "    }\n",
              "</style>\n",
              "<table border=\"1\" class=\"dataframe\">\n",
              "  <thead>\n",
              "    <tr style=\"text-align: right;\">\n",
              "      <th></th>\n",
              "      <th>Gender</th>\n",
              "      <th>Total_Claims</th>\n",
              "      <th>Total_Premium</th>\n",
              "      <th>Policy_Count</th>\n",
              "      <th>Loss_Ratio</th>\n",
              "    </tr>\n",
              "  </thead>\n",
              "  <tbody>\n",
              "    <tr>\n",
              "      <th>2</th>\n",
              "      <td>Other</td>\n",
              "      <td>68002.77</td>\n",
              "      <td>189023.02</td>\n",
              "      <td>207</td>\n",
              "      <td>0.3598</td>\n",
              "    </tr>\n",
              "    <tr>\n",
              "      <th>1</th>\n",
              "      <td>Male</td>\n",
              "      <td>1642070.58</td>\n",
              "      <td>4904246.67</td>\n",
              "      <td>4772</td>\n",
              "      <td>0.3348</td>\n",
              "    </tr>\n",
              "    <tr>\n",
              "      <th>0</th>\n",
              "      <td>Female</td>\n",
              "      <td>1525237.93</td>\n",
              "      <td>4663465.42</td>\n",
              "      <td>5021</td>\n",
              "      <td>0.3271</td>\n",
              "    </tr>\n",
              "  </tbody>\n",
              "</table>\n",
              "</div>"
            ],
            "text/plain": [
              "   Gender  Total_Claims  Total_Premium  Policy_Count  Loss_Ratio\n",
              "2   Other      68002.77      189023.02           207      0.3598\n",
              "1    Male    1642070.58     4904246.67          4772      0.3348\n",
              "0  Female    1525237.93     4663465.42          5021      0.3271"
            ]
          },
          "metadata": {},
          "output_type": "display_data"
        }
      ],
      "source": [
        "# Calculate overall Loss Ratio\n",
        "overall_loss_ratio = df['TotalClaims'].sum() / df['TotalPremium'].sum()\n",
        "print(f\"Overall Portfolio Loss Ratio: {overall_loss_ratio:.4f} ({overall_loss_ratio*100:.2f}%)\")\n",
        "\n",
        "# Calculate Loss Ratio by different segments\n",
        "print(\"\\nLoss Ratio Analysis by Segments:\")\n",
        "\n",
        "# By Province\n",
        "province_loss_ratio = df.groupby('Province').agg({\n",
        "    'TotalClaims': 'sum',\n",
        "    'TotalPremium': 'sum',\n",
        "    'PolicyID': 'count'\n",
        "}).reset_index()\n",
        "province_loss_ratio['LossRatio'] = province_loss_ratio['TotalClaims'] / province_loss_ratio['TotalPremium']\n",
        "province_loss_ratio = province_loss_ratio.sort_values('LossRatio', ascending=False)\n",
        "province_loss_ratio.columns = ['Province', 'Total_Claims', 'Total_Premium', 'Policy_Count', 'Loss_Ratio']\n",
        "\n",
        "print(\"\\nLoss Ratio by Province:\")\n",
        "display(province_loss_ratio.round(4))\n",
        "\n",
        "# By Vehicle Type\n",
        "vehicle_loss_ratio = df.groupby('VehicleType').agg({\n",
        "    'TotalClaims': 'sum',\n",
        "    'TotalPremium': 'sum',\n",
        "    'PolicyID': 'count'\n",
        "}).reset_index()\n",
        "vehicle_loss_ratio['LossRatio'] = vehicle_loss_ratio['TotalClaims'] / vehicle_loss_ratio['TotalPremium']\n",
        "vehicle_loss_ratio = vehicle_loss_ratio.sort_values('LossRatio', ascending=False)\n",
        "vehicle_loss_ratio.columns = ['Vehicle_Type', 'Total_Claims', 'Total_Premium', 'Policy_Count', 'Loss_Ratio']\n",
        "\n",
        "print(\"\\nLoss Ratio by Vehicle Type:\")\n",
        "display(vehicle_loss_ratio.round(4))\n",
        "\n",
        "# By Gender\n",
        "gender_loss_ratio = df.groupby('Gender').agg({\n",
        "    'TotalClaims': 'sum',\n",
        "    'TotalPremium': 'sum',\n",
        "    'PolicyID': 'count'\n",
        "}).reset_index()\n",
        "gender_loss_ratio['LossRatio'] = gender_loss_ratio['TotalClaims'] / gender_loss_ratio['TotalPremium']\n",
        "gender_loss_ratio = gender_loss_ratio.sort_values('LossRatio', ascending=False)\n",
        "gender_loss_ratio.columns = ['Gender', 'Total_Claims', 'Total_Premium', 'Policy_Count', 'Loss_Ratio']\n",
        "\n",
        "print(\"\\nLoss Ratio by Gender:\")\n",
        "display(gender_loss_ratio.round(4))\n"
      ]
    },
    {
      "cell_type": "raw",
      "metadata": {
        "vscode": {
          "languageId": "raw"
        }
      },
      "source": [
        "## 📊 Key Question 2: Distribution Analysis & Outlier Detection\n",
        "\n",
        "**What are the distributions of key financial variables? Are there outliers in TotalClaims or CustomValueEstimate that could skew our analysis?**\n"
      ]
    },
    {
      "cell_type": "code",
      "execution_count": null,
      "metadata": {},
      "outputs": [
        {
          "name": "stdout",
          "output_type": "stream",
          "text": [
            "📈 Distribution Analysis of Financial Variables:\n",
            "\n",
            "--- TotalPremium ---\n",
            "Mean: $975.67\n",
            "Median: $917.83\n",
            "Std Dev: $302.63\n",
            "Skewness: 1.2761\n",
            "Kurtosis: 2.4619\n",
            "Normality Test (D'Agostino): p-value = 0.000000\n",
            "❌ Data is NOT normally distributed\n",
            "\n",
            "--- TotalClaims ---\n",
            "Mean: $323.53\n",
            "Median: $0.00\n",
            "Std Dev: $1,021.59\n",
            "Skewness: 4.6919\n",
            "Kurtosis: 29.8882\n",
            "Normality Test (D'Agostino): p-value = 0.000000\n",
            "❌ Data is NOT normally distributed\n",
            "\n",
            "--- CustomValueEstimate ---\n",
            "Mean: $6,554.60\n",
            "Median: $3,610.29\n",
            "Std Dev: $5,261.59\n",
            "Skewness: 1.4340\n",
            "Kurtosis: 0.9339\n",
            "Normality Test (D'Agostino): p-value = 0.000000\n",
            "❌ Data is NOT normally distributed\n",
            "\n",
            "🎯 Outlier Detection (IQR Method):\n",
            "\n",
            "TotalPremium:\n",
            "  Lower Bound: $212.70\n",
            "  Upper Bound: $1,669.73\n",
            "  Outliers: 320 (3.20%)\n",
            "  Max Outlier: $2,913.15\n",
            "  Min Outlier: $1,669.74\n",
            "\n",
            "TotalClaims:\n",
            "  Lower Bound: $0.00\n",
            "  Upper Bound: $0.00\n",
            "  Outliers: 1531 (15.31%)\n",
            "  Max Outlier: $12,754.01\n",
            "  Min Outlier: $100.00\n",
            "\n",
            "CustomValueEstimate:\n",
            "  Lower Bound: $-5,932.11\n",
            "  Upper Bound: $18,114.39\n",
            "  Outliers: 489 (4.89%)\n",
            "  Max Outlier: $25,485.12\n",
            "  Min Outlier: $18,118.39\n"
          ]
        }
      ],
      "source": [
        "# Distribution Analysis of Key Financial Variables\n",
        "financial_vars = ['TotalPremium', 'TotalClaims', 'CustomValueEstimate']\n",
        "\n",
        "print(\"Distribution Analysis of Financial Variables:\")\n",
        "for var in financial_vars:\n",
        "    print(f\"\\n--- {var} ---\")\n",
        "    data = df[var]\n",
        "    \n",
        "    # Basic statistics\n",
        "    print(f\"Mean: ${data.mean():,.2f}\")\n",
        "    print(f\"Median: ${data.median():,.2f}\")\n",
        "    print(f\"Std Dev: ${data.std():,.2f}\")\n",
        "    print(f\"Skewness: {skew(data):.4f}\")\n",
        "    print(f\"Kurtosis: {kurtosis(data):.4f}\")\n",
        "    \n",
        "    # Test for normality\n",
        "    stat, p_value = normaltest(data)\n",
        "    print(f\"Normality Test (D'Agostino): p-value = {p_value:.6f}\")\n",
        "    if p_value < 0.05:\n",
        "        print(\"Data is NOT normally distributed\")\n",
        "    else:\n",
        "        print(\"Data appears normally distributed\")\n",
        "\n",
        "# Outlier Detection using IQR method\n",
        "print(\"\\nOutlier Detection (IQR Method):\")\n",
        "for var in financial_vars:\n",
        "    data = df[var]\n",
        "    Q1 = data.quantile(0.25)\n",
        "    Q3 = data.quantile(0.75)\n",
        "    IQR = Q3 - Q1\n",
        "    lower_bound = Q1 - 1.5 * IQR\n",
        "    upper_bound = Q3 + 1.5 * IQR\n",
        "    \n",
        "    outliers = data[(data < lower_bound) | (data > upper_bound)]\n",
        "    outlier_percentage = (len(outliers) / len(data)) * 100\n",
        "    \n",
        "    print(f\"\\n{var}:\")\n",
        "    print(f\"  Lower Bound: ${lower_bound:,.2f}\")\n",
        "    print(f\"  Upper Bound: ${upper_bound:,.2f}\")\n",
        "    print(f\"  Outliers: {len(outliers)} ({outlier_percentage:.2f}%)\")\n",
        "    if len(outliers) > 0:\n",
        "        print(f\"  Max Outlier: ${outliers.max():,.2f}\")\n",
        "        print(f\"  Min Outlier: ${outliers.min():,.2f}\")\n"
      ]
    },
    {
      "cell_type": "raw",
      "metadata": {
        "vscode": {
          "languageId": "raw"
        }
      },
      "source": [
        "## 📅 Key Question 3: Temporal Trends Analysis\n",
        "\n",
        "**Are there temporal trends? Did the claim frequency or severity change over the 18-month period?**\n"
      ]
    },
    {
      "cell_type": "code",
      "execution_count": null,
      "metadata": {},
      "outputs": [
        {
          "name": "stdout",
          "output_type": "stream",
          "text": [
            "📅 Temporal Trends Analysis:\n",
            "📈 Monthly Trends Summary:\n"
          ]
        },
        {
          "data": {
            "text/html": [
              "<div>\n",
              "<style scoped>\n",
              "    .dataframe tbody tr th:only-of-type {\n",
              "        vertical-align: middle;\n",
              "    }\n",
              "\n",
              "    .dataframe tbody tr th {\n",
              "        vertical-align: top;\n",
              "    }\n",
              "\n",
              "    .dataframe thead th {\n",
              "        text-align: right;\n",
              "    }\n",
              "</style>\n",
              "<table border=\"1\" class=\"dataframe\">\n",
              "  <thead>\n",
              "    <tr style=\"text-align: right;\">\n",
              "      <th></th>\n",
              "      <th>Year_Month</th>\n",
              "      <th>TotalPremium_sum</th>\n",
              "      <th>TotalPremium_mean</th>\n",
              "      <th>TotalPremium_count</th>\n",
              "      <th>TotalClaims_sum</th>\n",
              "      <th>TotalClaims_mean</th>\n",
              "      <th>HasClaim_sum</th>\n",
              "      <th>HasClaim_mean</th>\n",
              "      <th>CustomValueEstimate_mean</th>\n",
              "      <th>Claim_Frequency</th>\n",
              "      <th>Avg_Claim_Severity</th>\n",
              "      <th>Loss_Ratio</th>\n",
              "    </tr>\n",
              "  </thead>\n",
              "  <tbody>\n",
              "    <tr>\n",
              "      <th>0</th>\n",
              "      <td>2022-01</td>\n",
              "      <td>543995.89</td>\n",
              "      <td>981.94</td>\n",
              "      <td>554</td>\n",
              "      <td>203999.07</td>\n",
              "      <td>368.23</td>\n",
              "      <td>90</td>\n",
              "      <td>0.16</td>\n",
              "      <td>6624.50</td>\n",
              "      <td>16.25</td>\n",
              "      <td>2266.66</td>\n",
              "      <td>0.38</td>\n",
              "    </tr>\n",
              "    <tr>\n",
              "      <th>1</th>\n",
              "      <td>2022-02</td>\n",
              "      <td>492779.69</td>\n",
              "      <td>985.56</td>\n",
              "      <td>500</td>\n",
              "      <td>166516.62</td>\n",
              "      <td>333.03</td>\n",
              "      <td>79</td>\n",
              "      <td>0.16</td>\n",
              "      <td>6535.95</td>\n",
              "      <td>15.80</td>\n",
              "      <td>2107.81</td>\n",
              "      <td>0.34</td>\n",
              "    </tr>\n",
              "    <tr>\n",
              "      <th>2</th>\n",
              "      <td>2022-03</td>\n",
              "      <td>615333.17</td>\n",
              "      <td>973.63</td>\n",
              "      <td>632</td>\n",
              "      <td>218729.92</td>\n",
              "      <td>346.09</td>\n",
              "      <td>105</td>\n",
              "      <td>0.17</td>\n",
              "      <td>6623.56</td>\n",
              "      <td>16.61</td>\n",
              "      <td>2083.14</td>\n",
              "      <td>0.36</td>\n",
              "    </tr>\n",
              "    <tr>\n",
              "      <th>3</th>\n",
              "      <td>2022-04</td>\n",
              "      <td>545878.61</td>\n",
              "      <td>992.51</td>\n",
              "      <td>550</td>\n",
              "      <td>154555.69</td>\n",
              "      <td>281.01</td>\n",
              "      <td>76</td>\n",
              "      <td>0.14</td>\n",
              "      <td>6316.53</td>\n",
              "      <td>13.82</td>\n",
              "      <td>2033.63</td>\n",
              "      <td>0.28</td>\n",
              "    </tr>\n",
              "    <tr>\n",
              "      <th>4</th>\n",
              "      <td>2022-05</td>\n",
              "      <td>536020.11</td>\n",
              "      <td>964.06</td>\n",
              "      <td>556</td>\n",
              "      <td>161560.47</td>\n",
              "      <td>290.58</td>\n",
              "      <td>82</td>\n",
              "      <td>0.15</td>\n",
              "      <td>6465.68</td>\n",
              "      <td>14.75</td>\n",
              "      <td>1970.25</td>\n",
              "      <td>0.30</td>\n",
              "    </tr>\n",
              "    <tr>\n",
              "      <th>5</th>\n",
              "      <td>2022-06</td>\n",
              "      <td>527603.65</td>\n",
              "      <td>966.31</td>\n",
              "      <td>546</td>\n",
              "      <td>188306.92</td>\n",
              "      <td>344.88</td>\n",
              "      <td>91</td>\n",
              "      <td>0.17</td>\n",
              "      <td>6628.72</td>\n",
              "      <td>16.67</td>\n",
              "      <td>2069.31</td>\n",
              "      <td>0.36</td>\n",
              "    </tr>\n",
              "    <tr>\n",
              "      <th>6</th>\n",
              "      <td>2022-07</td>\n",
              "      <td>577277.92</td>\n",
              "      <td>968.59</td>\n",
              "      <td>596</td>\n",
              "      <td>170016.46</td>\n",
              "      <td>285.26</td>\n",
              "      <td>85</td>\n",
              "      <td>0.14</td>\n",
              "      <td>6606.92</td>\n",
              "      <td>14.26</td>\n",
              "      <td>2000.19</td>\n",
              "      <td>0.29</td>\n",
              "    </tr>\n",
              "    <tr>\n",
              "      <th>7</th>\n",
              "      <td>2022-08</td>\n",
              "      <td>548995.45</td>\n",
              "      <td>968.25</td>\n",
              "      <td>567</td>\n",
              "      <td>178018.37</td>\n",
              "      <td>313.97</td>\n",
              "      <td>86</td>\n",
              "      <td>0.15</td>\n",
              "      <td>6922.67</td>\n",
              "      <td>15.17</td>\n",
              "      <td>2069.98</td>\n",
              "      <td>0.32</td>\n",
              "    </tr>\n",
              "    <tr>\n",
              "      <th>8</th>\n",
              "      <td>2022-09</td>\n",
              "      <td>508684.18</td>\n",
              "      <td>983.92</td>\n",
              "      <td>517</td>\n",
              "      <td>147761.20</td>\n",
              "      <td>285.81</td>\n",
              "      <td>83</td>\n",
              "      <td>0.16</td>\n",
              "      <td>6155.16</td>\n",
              "      <td>16.05</td>\n",
              "      <td>1780.26</td>\n",
              "      <td>0.29</td>\n",
              "    </tr>\n",
              "    <tr>\n",
              "      <th>9</th>\n",
              "      <td>2022-10</td>\n",
              "      <td>552536.25</td>\n",
              "      <td>969.36</td>\n",
              "      <td>570</td>\n",
              "      <td>173124.11</td>\n",
              "      <td>303.73</td>\n",
              "      <td>86</td>\n",
              "      <td>0.15</td>\n",
              "      <td>6397.95</td>\n",
              "      <td>15.09</td>\n",
              "      <td>2013.07</td>\n",
              "      <td>0.31</td>\n",
              "    </tr>\n",
              "    <tr>\n",
              "      <th>10</th>\n",
              "      <td>2022-11</td>\n",
              "      <td>516766.60</td>\n",
              "      <td>964.12</td>\n",
              "      <td>536</td>\n",
              "      <td>202784.33</td>\n",
              "      <td>378.33</td>\n",
              "      <td>92</td>\n",
              "      <td>0.17</td>\n",
              "      <td>6727.04</td>\n",
              "      <td>17.16</td>\n",
              "      <td>2204.18</td>\n",
              "      <td>0.39</td>\n",
              "    </tr>\n",
              "    <tr>\n",
              "      <th>11</th>\n",
              "      <td>2022-12</td>\n",
              "      <td>568911.49</td>\n",
              "      <td>964.26</td>\n",
              "      <td>590</td>\n",
              "      <td>179516.31</td>\n",
              "      <td>304.26</td>\n",
              "      <td>80</td>\n",
              "      <td>0.14</td>\n",
              "      <td>6367.92</td>\n",
              "      <td>13.56</td>\n",
              "      <td>2243.95</td>\n",
              "      <td>0.32</td>\n",
              "    </tr>\n",
              "    <tr>\n",
              "      <th>12</th>\n",
              "      <td>2023-01</td>\n",
              "      <td>548066.38</td>\n",
              "      <td>991.08</td>\n",
              "      <td>553</td>\n",
              "      <td>193267.11</td>\n",
              "      <td>349.49</td>\n",
              "      <td>76</td>\n",
              "      <td>0.14</td>\n",
              "      <td>6766.85</td>\n",
              "      <td>13.74</td>\n",
              "      <td>2542.99</td>\n",
              "      <td>0.35</td>\n",
              "    </tr>\n",
              "    <tr>\n",
              "      <th>13</th>\n",
              "      <td>2023-02</td>\n",
              "      <td>479337.23</td>\n",
              "      <td>972.29</td>\n",
              "      <td>493</td>\n",
              "      <td>204017.41</td>\n",
              "      <td>413.83</td>\n",
              "      <td>82</td>\n",
              "      <td>0.17</td>\n",
              "      <td>6327.85</td>\n",
              "      <td>16.63</td>\n",
              "      <td>2488.02</td>\n",
              "      <td>0.43</td>\n",
              "    </tr>\n",
              "    <tr>\n",
              "      <th>14</th>\n",
              "      <td>2023-03</td>\n",
              "      <td>542833.29</td>\n",
              "      <td>959.07</td>\n",
              "      <td>566</td>\n",
              "      <td>159170.53</td>\n",
              "      <td>281.22</td>\n",
              "      <td>90</td>\n",
              "      <td>0.16</td>\n",
              "      <td>6743.97</td>\n",
              "      <td>15.90</td>\n",
              "      <td>1768.56</td>\n",
              "      <td>0.29</td>\n",
              "    </tr>\n",
              "    <tr>\n",
              "      <th>15</th>\n",
              "      <td>2023-04</td>\n",
              "      <td>561235.78</td>\n",
              "      <td>1002.21</td>\n",
              "      <td>560</td>\n",
              "      <td>207077.89</td>\n",
              "      <td>369.78</td>\n",
              "      <td>92</td>\n",
              "      <td>0.16</td>\n",
              "      <td>6912.30</td>\n",
              "      <td>16.43</td>\n",
              "      <td>2250.85</td>\n",
              "      <td>0.37</td>\n",
              "    </tr>\n",
              "    <tr>\n",
              "      <th>16</th>\n",
              "      <td>2023-05</td>\n",
              "      <td>554120.17</td>\n",
              "      <td>977.28</td>\n",
              "      <td>567</td>\n",
              "      <td>192384.36</td>\n",
              "      <td>339.30</td>\n",
              "      <td>86</td>\n",
              "      <td>0.15</td>\n",
              "      <td>6511.80</td>\n",
              "      <td>15.17</td>\n",
              "      <td>2237.03</td>\n",
              "      <td>0.35</td>\n",
              "    </tr>\n",
              "    <tr>\n",
              "      <th>17</th>\n",
              "      <td>2023-06</td>\n",
              "      <td>514508.01</td>\n",
              "      <td>983.76</td>\n",
              "      <td>523</td>\n",
              "      <td>129552.84</td>\n",
              "      <td>247.71</td>\n",
              "      <td>68</td>\n",
              "      <td>0.13</td>\n",
              "      <td>6284.93</td>\n",
              "      <td>13.00</td>\n",
              "      <td>1905.19</td>\n",
              "      <td>0.25</td>\n",
              "    </tr>\n",
              "    <tr>\n",
              "      <th>18</th>\n",
              "      <td>2023-07</td>\n",
              "      <td>21851.24</td>\n",
              "      <td>910.47</td>\n",
              "      <td>24</td>\n",
              "      <td>4951.67</td>\n",
              "      <td>206.32</td>\n",
              "      <td>2</td>\n",
              "      <td>0.08</td>\n",
              "      <td>6254.74</td>\n",
              "      <td>8.33</td>\n",
              "      <td>2475.84</td>\n",
              "      <td>0.23</td>\n",
              "    </tr>\n",
              "  </tbody>\n",
              "</table>\n",
              "</div>"
            ],
            "text/plain": [
              "   Year_Month  TotalPremium_sum  TotalPremium_mean  TotalPremium_count  \\\n",
              "0     2022-01         543995.89             981.94                 554   \n",
              "1     2022-02         492779.69             985.56                 500   \n",
              "2     2022-03         615333.17             973.63                 632   \n",
              "3     2022-04         545878.61             992.51                 550   \n",
              "4     2022-05         536020.11             964.06                 556   \n",
              "5     2022-06         527603.65             966.31                 546   \n",
              "6     2022-07         577277.92             968.59                 596   \n",
              "7     2022-08         548995.45             968.25                 567   \n",
              "8     2022-09         508684.18             983.92                 517   \n",
              "9     2022-10         552536.25             969.36                 570   \n",
              "10    2022-11         516766.60             964.12                 536   \n",
              "11    2022-12         568911.49             964.26                 590   \n",
              "12    2023-01         548066.38             991.08                 553   \n",
              "13    2023-02         479337.23             972.29                 493   \n",
              "14    2023-03         542833.29             959.07                 566   \n",
              "15    2023-04         561235.78            1002.21                 560   \n",
              "16    2023-05         554120.17             977.28                 567   \n",
              "17    2023-06         514508.01             983.76                 523   \n",
              "18    2023-07          21851.24             910.47                  24   \n",
              "\n",
              "    TotalClaims_sum  TotalClaims_mean  HasClaim_sum  HasClaim_mean  \\\n",
              "0         203999.07            368.23            90           0.16   \n",
              "1         166516.62            333.03            79           0.16   \n",
              "2         218729.92            346.09           105           0.17   \n",
              "3         154555.69            281.01            76           0.14   \n",
              "4         161560.47            290.58            82           0.15   \n",
              "5         188306.92            344.88            91           0.17   \n",
              "6         170016.46            285.26            85           0.14   \n",
              "7         178018.37            313.97            86           0.15   \n",
              "8         147761.20            285.81            83           0.16   \n",
              "9         173124.11            303.73            86           0.15   \n",
              "10        202784.33            378.33            92           0.17   \n",
              "11        179516.31            304.26            80           0.14   \n",
              "12        193267.11            349.49            76           0.14   \n",
              "13        204017.41            413.83            82           0.17   \n",
              "14        159170.53            281.22            90           0.16   \n",
              "15        207077.89            369.78            92           0.16   \n",
              "16        192384.36            339.30            86           0.15   \n",
              "17        129552.84            247.71            68           0.13   \n",
              "18          4951.67            206.32             2           0.08   \n",
              "\n",
              "    CustomValueEstimate_mean  Claim_Frequency  Avg_Claim_Severity  Loss_Ratio  \n",
              "0                    6624.50            16.25             2266.66        0.38  \n",
              "1                    6535.95            15.80             2107.81        0.34  \n",
              "2                    6623.56            16.61             2083.14        0.36  \n",
              "3                    6316.53            13.82             2033.63        0.28  \n",
              "4                    6465.68            14.75             1970.25        0.30  \n",
              "5                    6628.72            16.67             2069.31        0.36  \n",
              "6                    6606.92            14.26             2000.19        0.29  \n",
              "7                    6922.67            15.17             2069.98        0.32  \n",
              "8                    6155.16            16.05             1780.26        0.29  \n",
              "9                    6397.95            15.09             2013.07        0.31  \n",
              "10                   6727.04            17.16             2204.18        0.39  \n",
              "11                   6367.92            13.56             2243.95        0.32  \n",
              "12                   6766.85            13.74             2542.99        0.35  \n",
              "13                   6327.85            16.63             2488.02        0.43  \n",
              "14                   6743.97            15.90             1768.56        0.29  \n",
              "15                   6912.30            16.43             2250.85        0.37  \n",
              "16                   6511.80            15.17             2237.03        0.35  \n",
              "17                   6284.93            13.00             1905.19        0.25  \n",
              "18                   6254.74             8.33             2475.84        0.23  "
            ]
          },
          "metadata": {},
          "output_type": "display_data"
        },
        {
          "name": "stdout",
          "output_type": "stream",
          "text": [
            "\n",
            "🔍 Trend Analysis:\n",
            "Claim Frequency Range: 8.33% - 17.16%\n",
            "Average Claim Severity Range: $1,768.56 - $2,542.99\n",
            "Loss Ratio Range: 0.2266 - 0.4256\n",
            "\n",
            "📊 Correlation with Time:\n",
            "Claim Frequency vs Time: -0.4220\n",
            "Claim Severity vs Time: 0.2578\n",
            "🔺 Notable decreasing trend in claim frequency over time\n"
          ]
        }
      ],
      "source": [
        "# Temporal Analysis\n",
        "print(\"Temporal Trends Analysis:\")\n",
        "\n",
        "# Convert TransactionDate to datetime if not already\n",
        "df['TransactionDate'] = pd.to_datetime(df['TransactionDate'])\n",
        "df['Year_Month'] = df['TransactionDate'].dt.to_period('M')\n",
        "\n",
        "# Monthly aggregations\n",
        "monthly_stats = df.groupby('Year_Month').agg({\n",
        "    'TotalPremium': ['sum', 'mean', 'count'],\n",
        "    'TotalClaims': ['sum', 'mean'],\n",
        "    'HasClaim': ['sum', 'mean'],\n",
        "    'CustomValueEstimate': 'mean'\n",
        "}).round(2)\n",
        "\n",
        "# Flatten column names\n",
        "monthly_stats.columns = ['_'.join(col).strip() for col in monthly_stats.columns]\n",
        "monthly_stats.reset_index(inplace=True)\n",
        "\n",
        "# Calculate additional metrics\n",
        "monthly_stats['Claim_Frequency'] = monthly_stats['HasClaim_sum'] / monthly_stats['TotalPremium_count'] * 100\n",
        "monthly_stats['Avg_Claim_Severity'] = monthly_stats['TotalClaims_sum'] / monthly_stats['HasClaim_sum']\n",
        "monthly_stats['Loss_Ratio'] = monthly_stats['TotalClaims_sum'] / monthly_stats['TotalPremium_sum']\n",
        "\n",
        "# Handle division by zero\n",
        "monthly_stats['Avg_Claim_Severity'] = monthly_stats['Avg_Claim_Severity'].fillna(0)\n",
        "monthly_stats['Loss_Ratio'] = monthly_stats['Loss_Ratio'].fillna(0)\n",
        "\n",
        "print(\"Monthly Trends Summary:\")\n",
        "display(monthly_stats.round(2))\n",
        "\n",
        "# Identify trends\n",
        "print(\"\\nTrend Analysis:\")\n",
        "print(f\"Claim Frequency Range: {monthly_stats['Claim_Frequency'].min():.2f}% - {monthly_stats['Claim_Frequency'].max():.2f}%\")\n",
        "print(f\"Average Claim Severity Range: ${monthly_stats['Avg_Claim_Severity'].min():,.2f} - ${monthly_stats['Avg_Claim_Severity'].max():,.2f}\")\n",
        "print(f\"Loss Ratio Range: {monthly_stats['Loss_Ratio'].min():.4f} - {monthly_stats['Loss_Ratio'].max():.4f}\")\n",
        "\n",
        "# Correlation with time (using month number as proxy)\n",
        "monthly_stats['Month_Number'] = range(1, len(monthly_stats) + 1)\n",
        "freq_correlation = monthly_stats['Claim_Frequency'].corr(monthly_stats['Month_Number'])\n",
        "severity_correlation = monthly_stats['Avg_Claim_Severity'].corr(monthly_stats['Month_Number'])\n",
        "\n",
        "print(f\"\\nCorrelation with Time:\")\n",
        "print(f\"Claim Frequency vs Time: {freq_correlation:.4f}\")\n",
        "print(f\"Claim Severity vs Time: {severity_correlation:.4f}\")\n",
        "\n",
        "if abs(freq_correlation) > 0.3:\n",
        "    trend_direction = \"increasing\" if freq_correlation > 0 else \"decreasing\"\n",
        "    print(f\"Notable {trend_direction} trend in claim frequency over time\")\n",
        "if abs(severity_correlation) > 0.3:\n",
        "    trend_direction = \"increasing\" if severity_correlation > 0 else \"decreasing\"\n",
        "    print(f\"Notable {trend_direction} trend in claim severity over time\")\n"
      ]
    },
    {
      "cell_type": "raw",
      "metadata": {
        "vscode": {
          "languageId": "raw"
        }
      },
      "source": [
        "## 🚗 Key Question 4: Vehicle Analysis\n",
        "\n",
        "**Which vehicle makes/models are associated with the highest and lowest claim amounts?**\n"
      ]
    },
    {
      "cell_type": "code",
      "execution_count": null,
      "metadata": {},
      "outputs": [
        {
          "name": "stdout",
          "output_type": "stream",
          "text": [
            "🚗 Vehicle Analysis - Claims by Make and Type:\n",
            "📊 Vehicle Makes Ranked by Average Claim Amount:\n"
          ]
        },
        {
          "data": {
            "text/html": [
              "<div>\n",
              "<style scoped>\n",
              "    .dataframe tbody tr th:only-of-type {\n",
              "        vertical-align: middle;\n",
              "    }\n",
              "\n",
              "    .dataframe tbody tr th {\n",
              "        vertical-align: top;\n",
              "    }\n",
              "\n",
              "    .dataframe thead th {\n",
              "        text-align: right;\n",
              "    }\n",
              "</style>\n",
              "<table border=\"1\" class=\"dataframe\">\n",
              "  <thead>\n",
              "    <tr style=\"text-align: right;\">\n",
              "      <th></th>\n",
              "      <th>VehicleMake</th>\n",
              "      <th>TotalClaims_count</th>\n",
              "      <th>Avg_Claim_Amount</th>\n",
              "      <th>Claim_Frequency_Pct</th>\n",
              "      <th>Loss_Ratio</th>\n",
              "    </tr>\n",
              "  </thead>\n",
              "  <tbody>\n",
              "    <tr>\n",
              "      <th>8</th>\n",
              "      <td>Mercedes</td>\n",
              "      <td>829</td>\n",
              "      <td>2414.79</td>\n",
              "      <td>15.0</td>\n",
              "      <td>0.38</td>\n",
              "    </tr>\n",
              "    <tr>\n",
              "      <th>5</th>\n",
              "      <td>Hyundai</td>\n",
              "      <td>830</td>\n",
              "      <td>2252.02</td>\n",
              "      <td>12.0</td>\n",
              "      <td>0.28</td>\n",
              "    </tr>\n",
              "    <tr>\n",
              "      <th>11</th>\n",
              "      <td>Volkswagen</td>\n",
              "      <td>850</td>\n",
              "      <td>2183.09</td>\n",
              "      <td>17.0</td>\n",
              "      <td>0.39</td>\n",
              "    </tr>\n",
              "    <tr>\n",
              "      <th>9</th>\n",
              "      <td>Nissan</td>\n",
              "      <td>829</td>\n",
              "      <td>2168.28</td>\n",
              "      <td>18.0</td>\n",
              "      <td>0.39</td>\n",
              "    </tr>\n",
              "    <tr>\n",
              "      <th>6</th>\n",
              "      <td>Kia</td>\n",
              "      <td>796</td>\n",
              "      <td>2146.76</td>\n",
              "      <td>16.0</td>\n",
              "      <td>0.35</td>\n",
              "    </tr>\n",
              "    <tr>\n",
              "      <th>3</th>\n",
              "      <td>Ford</td>\n",
              "      <td>842</td>\n",
              "      <td>2122.65</td>\n",
              "      <td>15.0</td>\n",
              "      <td>0.32</td>\n",
              "    </tr>\n",
              "    <tr>\n",
              "      <th>7</th>\n",
              "      <td>Mazda</td>\n",
              "      <td>843</td>\n",
              "      <td>2103.10</td>\n",
              "      <td>14.0</td>\n",
              "      <td>0.30</td>\n",
              "    </tr>\n",
              "    <tr>\n",
              "      <th>1</th>\n",
              "      <td>BMW</td>\n",
              "      <td>871</td>\n",
              "      <td>2042.92</td>\n",
              "      <td>16.0</td>\n",
              "      <td>0.34</td>\n",
              "    </tr>\n",
              "    <tr>\n",
              "      <th>0</th>\n",
              "      <td>Audi</td>\n",
              "      <td>858</td>\n",
              "      <td>2041.68</td>\n",
              "      <td>16.0</td>\n",
              "      <td>0.33</td>\n",
              "    </tr>\n",
              "    <tr>\n",
              "      <th>10</th>\n",
              "      <td>Toyota</td>\n",
              "      <td>839</td>\n",
              "      <td>2034.21</td>\n",
              "      <td>14.0</td>\n",
              "      <td>0.29</td>\n",
              "    </tr>\n",
              "    <tr>\n",
              "      <th>2</th>\n",
              "      <td>Chevrolet</td>\n",
              "      <td>799</td>\n",
              "      <td>1954.45</td>\n",
              "      <td>16.0</td>\n",
              "      <td>0.31</td>\n",
              "    </tr>\n",
              "    <tr>\n",
              "      <th>4</th>\n",
              "      <td>Honda</td>\n",
              "      <td>814</td>\n",
              "      <td>1906.90</td>\n",
              "      <td>16.0</td>\n",
              "      <td>0.30</td>\n",
              "    </tr>\n",
              "  </tbody>\n",
              "</table>\n",
              "</div>"
            ],
            "text/plain": [
              "   VehicleMake  TotalClaims_count  Avg_Claim_Amount  Claim_Frequency_Pct  \\\n",
              "8     Mercedes                829           2414.79                 15.0   \n",
              "5      Hyundai                830           2252.02                 12.0   \n",
              "11  Volkswagen                850           2183.09                 17.0   \n",
              "9       Nissan                829           2168.28                 18.0   \n",
              "6          Kia                796           2146.76                 16.0   \n",
              "3         Ford                842           2122.65                 15.0   \n",
              "7        Mazda                843           2103.10                 14.0   \n",
              "1          BMW                871           2042.92                 16.0   \n",
              "0         Audi                858           2041.68                 16.0   \n",
              "10      Toyota                839           2034.21                 14.0   \n",
              "2    Chevrolet                799           1954.45                 16.0   \n",
              "4        Honda                814           1906.90                 16.0   \n",
              "\n",
              "    Loss_Ratio  \n",
              "8         0.38  \n",
              "5         0.28  \n",
              "11        0.39  \n",
              "9         0.39  \n",
              "6         0.35  \n",
              "3         0.32  \n",
              "7         0.30  \n",
              "1         0.34  \n",
              "0         0.33  \n",
              "10        0.29  \n",
              "2         0.31  \n",
              "4         0.30  "
            ]
          },
          "metadata": {},
          "output_type": "display_data"
        },
        {
          "name": "stdout",
          "output_type": "stream",
          "text": [
            "\n",
            "🏆 Top 3 Highest Risk Vehicle Makes:\n",
            "Mercedes: Avg Claim $2,414.79, Frequency 15.0%\n",
            "Hyundai: Avg Claim $2,252.02, Frequency 12.0%\n",
            "Volkswagen: Avg Claim $2,183.09, Frequency 17.0%\n",
            "\n",
            "✅ Top 3 Lowest Risk Vehicle Makes:\n",
            "Toyota: Avg Claim $2,034.21, Frequency 14.0%\n",
            "Chevrolet: Avg Claim $1,954.45, Frequency 16.0%\n",
            "Honda: Avg Claim $1,906.90, Frequency 16.0%\n",
            "\n",
            "\n",
            "🚙 Vehicle Types Analysis:\n"
          ]
        },
        {
          "data": {
            "text/html": [
              "<div>\n",
              "<style scoped>\n",
              "    .dataframe tbody tr th:only-of-type {\n",
              "        vertical-align: middle;\n",
              "    }\n",
              "\n",
              "    .dataframe tbody tr th {\n",
              "        vertical-align: top;\n",
              "    }\n",
              "\n",
              "    .dataframe thead th {\n",
              "        text-align: right;\n",
              "    }\n",
              "</style>\n",
              "<table border=\"1\" class=\"dataframe\">\n",
              "  <thead>\n",
              "    <tr style=\"text-align: right;\">\n",
              "      <th></th>\n",
              "      <th>VehicleType</th>\n",
              "      <th>Avg_Claim_Amount</th>\n",
              "      <th>Claim_Frequency_Pct</th>\n",
              "      <th>CustomValueEstimate_mean</th>\n",
              "    </tr>\n",
              "  </thead>\n",
              "  <tbody>\n",
              "    <tr>\n",
              "      <th>5</th>\n",
              "      <td>Truck</td>\n",
              "      <td>2447.02</td>\n",
              "      <td>16.0</td>\n",
              "      <td>7769.09</td>\n",
              "    </tr>\n",
              "    <tr>\n",
              "      <th>3</th>\n",
              "      <td>SUV</td>\n",
              "      <td>2265.39</td>\n",
              "      <td>16.0</td>\n",
              "      <td>7527.52</td>\n",
              "    </tr>\n",
              "    <tr>\n",
              "      <th>6</th>\n",
              "      <td>Van</td>\n",
              "      <td>2194.73</td>\n",
              "      <td>16.0</td>\n",
              "      <td>6166.68</td>\n",
              "    </tr>\n",
              "    <tr>\n",
              "      <th>1</th>\n",
              "      <td>Coupe</td>\n",
              "      <td>2136.60</td>\n",
              "      <td>15.0</td>\n",
              "      <td>6239.96</td>\n",
              "    </tr>\n",
              "    <tr>\n",
              "      <th>0</th>\n",
              "      <td>Convertible</td>\n",
              "      <td>2070.12</td>\n",
              "      <td>15.0</td>\n",
              "      <td>6352.67</td>\n",
              "    </tr>\n",
              "    <tr>\n",
              "      <th>4</th>\n",
              "      <td>Sedan</td>\n",
              "      <td>1971.37</td>\n",
              "      <td>15.0</td>\n",
              "      <td>6010.79</td>\n",
              "    </tr>\n",
              "    <tr>\n",
              "      <th>2</th>\n",
              "      <td>Hatchback</td>\n",
              "      <td>1958.70</td>\n",
              "      <td>14.0</td>\n",
              "      <td>5938.99</td>\n",
              "    </tr>\n",
              "  </tbody>\n",
              "</table>\n",
              "</div>"
            ],
            "text/plain": [
              "   VehicleType  Avg_Claim_Amount  Claim_Frequency_Pct  \\\n",
              "5        Truck           2447.02                 16.0   \n",
              "3          SUV           2265.39                 16.0   \n",
              "6          Van           2194.73                 16.0   \n",
              "1        Coupe           2136.60                 15.0   \n",
              "0  Convertible           2070.12                 15.0   \n",
              "4        Sedan           1971.37                 15.0   \n",
              "2    Hatchback           1958.70                 14.0   \n",
              "\n",
              "   CustomValueEstimate_mean  \n",
              "5                   7769.09  \n",
              "3                   7527.52  \n",
              "6                   6166.68  \n",
              "1                   6239.96  \n",
              "0                   6352.67  \n",
              "4                   6010.79  \n",
              "2                   5938.99  "
            ]
          },
          "metadata": {},
          "output_type": "display_data"
        }
      ],
      "source": [
        "# Vehicle Analysis\n",
        "print(\"Vehicle Analysis - Claims by Make and Type:\")\n",
        "\n",
        "# Analysis by Vehicle Make\n",
        "vehicle_make_analysis = df.groupby('VehicleMake').agg({\n",
        "    'TotalClaims': ['sum', 'mean', 'count'],\n",
        "    'TotalPremium': ['sum', 'mean'],\n",
        "    'HasClaim': ['sum', 'mean'],\n",
        "    'CustomValueEstimate': 'mean'\n",
        "}).round(2)\n",
        "\n",
        "vehicle_make_analysis.columns = ['_'.join(col).strip() for col in vehicle_make_analysis.columns]\n",
        "vehicle_make_analysis.reset_index(inplace=True)\n",
        "\n",
        "# Calculate additional metrics\n",
        "vehicle_make_analysis['Avg_Claim_Amount'] = vehicle_make_analysis['TotalClaims_sum'] / vehicle_make_analysis['HasClaim_sum']\n",
        "vehicle_make_analysis['Claim_Frequency_Pct'] = vehicle_make_analysis['HasClaim_mean'] * 100\n",
        "vehicle_make_analysis['Loss_Ratio'] = vehicle_make_analysis['TotalClaims_sum'] / vehicle_make_analysis['TotalPremium_sum']\n",
        "\n",
        "# Handle division by zero\n",
        "vehicle_make_analysis['Avg_Claim_Amount'] = vehicle_make_analysis['Avg_Claim_Amount'].fillna(0)\n",
        "\n",
        "# Sort by different metrics\n",
        "print(\"Vehicle Makes Ranked by Average Claim Amount:\")\n",
        "top_claim_makes = vehicle_make_analysis.sort_values('Avg_Claim_Amount', ascending=False)\n",
        "display(top_claim_makes[['VehicleMake', 'TotalClaims_count', 'Avg_Claim_Amount', 'Claim_Frequency_Pct', 'Loss_Ratio']].round(2))\n",
        "\n",
        "print(\"\\nTop 3 Highest Risk Vehicle Makes:\")\n",
        "for i, row in top_claim_makes.head(3).iterrows():\n",
        "    print(f\"{row['VehicleMake']}: Avg Claim ${row['Avg_Claim_Amount']:,.2f}, Frequency {row['Claim_Frequency_Pct']:.1f}%\")\n",
        "\n",
        "print(\"\\nTop 3 Lowest Risk Vehicle Makes:\")\n",
        "for i, row in top_claim_makes.tail(3).iterrows():\n",
        "    if row['Avg_Claim_Amount'] > 0:  # Only include makes with actual claims\n",
        "        print(f\"{row['VehicleMake']}: Avg Claim ${row['Avg_Claim_Amount']:,.2f}, Frequency {row['Claim_Frequency_Pct']:.1f}%\")\n",
        "\n",
        "# Vehicle Type Analysis\n",
        "print(\"\\n\\n🚙 Vehicle Types Analysis:\")\n",
        "vehicle_type_analysis = df.groupby('VehicleType').agg({\n",
        "    'TotalClaims': ['sum', 'mean'],\n",
        "    'HasClaim': ['sum', 'mean'],\n",
        "    'TotalPremium': 'sum',\n",
        "    'CustomValueEstimate': 'mean'\n",
        "}).round(2)\n",
        "\n",
        "vehicle_type_analysis.columns = ['_'.join(col).strip() for col in vehicle_type_analysis.columns]\n",
        "vehicle_type_analysis.reset_index(inplace=True)\n",
        "vehicle_type_analysis['Avg_Claim_Amount'] = vehicle_type_analysis['TotalClaims_sum'] / vehicle_type_analysis['HasClaim_sum']\n",
        "vehicle_type_analysis['Claim_Frequency_Pct'] = vehicle_type_analysis['HasClaim_mean'] * 100\n",
        "vehicle_type_analysis = vehicle_type_analysis.sort_values('Avg_Claim_Amount', ascending=False)\n",
        "\n",
        "display(vehicle_type_analysis[['VehicleType', 'Avg_Claim_Amount', 'Claim_Frequency_Pct', 'CustomValueEstimate_mean']].round(2))\n"
      ]
    },
    {
      "cell_type": "raw",
      "metadata": {
        "vscode": {
          "languageId": "raw"
        }
      },
      "source": [
        "## 🎨 Creative Visualizations - Key Insights\n",
        "\n",
        "**Three beautiful and insightful plots that capture the key insights from our EDA:**\n"
      ]
    },
    {
      "cell_type": "code",
      "execution_count": null,
      "metadata": {},
      "outputs": [
        {
          "name": "stdout",
          "output_type": "stream",
          "text": [
            "🎨 Creating Visualization 1: Interactive Loss Ratio Heatmap\n"
          ]
        },
        {
          "data": {
            "application/vnd.plotly.v1+json": {
              "config": {
                "plotlyServerURL": "https://plot.ly"
              },
              "data": [
                {
                  "colorbar": {
                    "title": {
                      "text": "Loss Ratio"
                    }
                  },
                  "colorscale": [
                    [
                      0,
                      "rgb(49,54,149)"
                    ],
                    [
                      0.1,
                      "rgb(69,117,180)"
                    ],
                    [
                      0.2,
                      "rgb(116,173,209)"
                    ],
                    [
                      0.3,
                      "rgb(171,217,233)"
                    ],
                    [
                      0.4,
                      "rgb(224,243,248)"
                    ],
                    [
                      0.5,
                      "rgb(255,255,191)"
                    ],
                    [
                      0.6,
                      "rgb(254,224,144)"
                    ],
                    [
                      0.7,
                      "rgb(253,174,97)"
                    ],
                    [
                      0.8,
                      "rgb(244,109,67)"
                    ],
                    [
                      0.9,
                      "rgb(215,48,39)"
                    ],
                    [
                      1,
                      "rgb(165,0,38)"
                    ]
                  ],
                  "hoverongaps": false,
                  "hovertemplate": "Province: %{y}<br>Vehicle Type: %{x}<br>Loss Ratio: %{z:.4f}<extra></extra>",
                  "type": "heatmap",
                  "x": [
                    "Convertible",
                    "Coupe",
                    "Hatchback",
                    "SUV",
                    "Sedan",
                    "Truck",
                    "Van"
                  ],
                  "y": [
                    "Alberta",
                    "British Columbia",
                    "Manitoba",
                    "New Brunswick",
                    "Newfoundland",
                    "Nova Scotia",
                    "Ontario",
                    "Quebec",
                    "Saskatchewan"
                  ],
                  "z": [
                    [
                      0.10663284824262659,
                      0.2381109848485175,
                      0.36560466768907274,
                      0.21731868276802604,
                      0.3244068060998835,
                      0.25251061296870386,
                      0.13601839965768078
                    ],
                    [
                      0.1967994763430526,
                      0.08327696396161353,
                      0.3979744672371643,
                      0.37774575505935554,
                      0.2669651314131966,
                      0.41064898089769164,
                      0.36006479848213585
                    ],
                    [
                      0.17293757302700855,
                      0.08941853718867578,
                      0.6367186010584918,
                      0.36987988371170716,
                      0.3995383510774933,
                      0.30985134915496293,
                      0.2396192179892023
                    ],
                    [
                      0.3350835586991193,
                      0.4197273259348059,
                      0,
                      0.8558622604948293,
                      0.5964976798937842,
                      0.7874811924140307,
                      0.2557714003337902
                    ],
                    [
                      0.966524628772154,
                      0,
                      0.17652228201857437,
                      0.0813046559576682,
                      0.45972339346338514,
                      0,
                      0
                    ],
                    [
                      0,
                      0.1370122647474945,
                      0.15885357557333774,
                      0.41370364137058613,
                      0.5416921548947037,
                      1.1806448824146347,
                      0.2799497995729217
                    ],
                    [
                      0.26879257680455687,
                      0.3175327044539257,
                      0.28218409671342815,
                      0.34669652981594046,
                      0.2985107432499675,
                      0.27016110220693496,
                      0.28371967354191574
                    ],
                    [
                      0.3687537294241197,
                      0.32580099430701276,
                      0.34181437362154904,
                      0.4263038874851239,
                      0.3841333853063308,
                      0.433914152864899,
                      0.6252286417493428
                    ],
                    [
                      0.25547706661194997,
                      0.6196414901919716,
                      0.3636794311950073,
                      0.41994326486415273,
                      0.4166596821418841,
                      0.7433588213775087,
                      0.9674324748351997
                    ]
                  ]
                }
              ],
              "layout": {
                "font": {
                  "size": 12
                },
                "height": 600,
                "template": {
                  "data": {
                    "bar": [
                      {
                        "error_x": {
                          "color": "#2a3f5f"
                        },
                        "error_y": {
                          "color": "#2a3f5f"
                        },
                        "marker": {
                          "line": {
                            "color": "#E5ECF6",
                            "width": 0.5
                          },
                          "pattern": {
                            "fillmode": "overlay",
                            "size": 10,
                            "solidity": 0.2
                          }
                        },
                        "type": "bar"
                      }
                    ],
                    "barpolar": [
                      {
                        "marker": {
                          "line": {
                            "color": "#E5ECF6",
                            "width": 0.5
                          },
                          "pattern": {
                            "fillmode": "overlay",
                            "size": 10,
                            "solidity": 0.2
                          }
                        },
                        "type": "barpolar"
                      }
                    ],
                    "carpet": [
                      {
                        "aaxis": {
                          "endlinecolor": "#2a3f5f",
                          "gridcolor": "white",
                          "linecolor": "white",
                          "minorgridcolor": "white",
                          "startlinecolor": "#2a3f5f"
                        },
                        "baxis": {
                          "endlinecolor": "#2a3f5f",
                          "gridcolor": "white",
                          "linecolor": "white",
                          "minorgridcolor": "white",
                          "startlinecolor": "#2a3f5f"
                        },
                        "type": "carpet"
                      }
                    ],
                    "choropleth": [
                      {
                        "colorbar": {
                          "outlinewidth": 0,
                          "ticks": ""
                        },
                        "type": "choropleth"
                      }
                    ],
                    "contour": [
                      {
                        "colorbar": {
                          "outlinewidth": 0,
                          "ticks": ""
                        },
                        "colorscale": [
                          [
                            0,
                            "#0d0887"
                          ],
                          [
                            0.1111111111111111,
                            "#46039f"
                          ],
                          [
                            0.2222222222222222,
                            "#7201a8"
                          ],
                          [
                            0.3333333333333333,
                            "#9c179e"
                          ],
                          [
                            0.4444444444444444,
                            "#bd3786"
                          ],
                          [
                            0.5555555555555556,
                            "#d8576b"
                          ],
                          [
                            0.6666666666666666,
                            "#ed7953"
                          ],
                          [
                            0.7777777777777778,
                            "#fb9f3a"
                          ],
                          [
                            0.8888888888888888,
                            "#fdca26"
                          ],
                          [
                            1,
                            "#f0f921"
                          ]
                        ],
                        "type": "contour"
                      }
                    ],
                    "contourcarpet": [
                      {
                        "colorbar": {
                          "outlinewidth": 0,
                          "ticks": ""
                        },
                        "type": "contourcarpet"
                      }
                    ],
                    "heatmap": [
                      {
                        "colorbar": {
                          "outlinewidth": 0,
                          "ticks": ""
                        },
                        "colorscale": [
                          [
                            0,
                            "#0d0887"
                          ],
                          [
                            0.1111111111111111,
                            "#46039f"
                          ],
                          [
                            0.2222222222222222,
                            "#7201a8"
                          ],
                          [
                            0.3333333333333333,
                            "#9c179e"
                          ],
                          [
                            0.4444444444444444,
                            "#bd3786"
                          ],
                          [
                            0.5555555555555556,
                            "#d8576b"
                          ],
                          [
                            0.6666666666666666,
                            "#ed7953"
                          ],
                          [
                            0.7777777777777778,
                            "#fb9f3a"
                          ],
                          [
                            0.8888888888888888,
                            "#fdca26"
                          ],
                          [
                            1,
                            "#f0f921"
                          ]
                        ],
                        "type": "heatmap"
                      }
                    ],
                    "heatmapgl": [
                      {
                        "colorbar": {
                          "outlinewidth": 0,
                          "ticks": ""
                        },
                        "colorscale": [
                          [
                            0,
                            "#0d0887"
                          ],
                          [
                            0.1111111111111111,
                            "#46039f"
                          ],
                          [
                            0.2222222222222222,
                            "#7201a8"
                          ],
                          [
                            0.3333333333333333,
                            "#9c179e"
                          ],
                          [
                            0.4444444444444444,
                            "#bd3786"
                          ],
                          [
                            0.5555555555555556,
                            "#d8576b"
                          ],
                          [
                            0.6666666666666666,
                            "#ed7953"
                          ],
                          [
                            0.7777777777777778,
                            "#fb9f3a"
                          ],
                          [
                            0.8888888888888888,
                            "#fdca26"
                          ],
                          [
                            1,
                            "#f0f921"
                          ]
                        ],
                        "type": "heatmapgl"
                      }
                    ],
                    "histogram": [
                      {
                        "marker": {
                          "pattern": {
                            "fillmode": "overlay",
                            "size": 10,
                            "solidity": 0.2
                          }
                        },
                        "type": "histogram"
                      }
                    ],
                    "histogram2d": [
                      {
                        "colorbar": {
                          "outlinewidth": 0,
                          "ticks": ""
                        },
                        "colorscale": [
                          [
                            0,
                            "#0d0887"
                          ],
                          [
                            0.1111111111111111,
                            "#46039f"
                          ],
                          [
                            0.2222222222222222,
                            "#7201a8"
                          ],
                          [
                            0.3333333333333333,
                            "#9c179e"
                          ],
                          [
                            0.4444444444444444,
                            "#bd3786"
                          ],
                          [
                            0.5555555555555556,
                            "#d8576b"
                          ],
                          [
                            0.6666666666666666,
                            "#ed7953"
                          ],
                          [
                            0.7777777777777778,
                            "#fb9f3a"
                          ],
                          [
                            0.8888888888888888,
                            "#fdca26"
                          ],
                          [
                            1,
                            "#f0f921"
                          ]
                        ],
                        "type": "histogram2d"
                      }
                    ],
                    "histogram2dcontour": [
                      {
                        "colorbar": {
                          "outlinewidth": 0,
                          "ticks": ""
                        },
                        "colorscale": [
                          [
                            0,
                            "#0d0887"
                          ],
                          [
                            0.1111111111111111,
                            "#46039f"
                          ],
                          [
                            0.2222222222222222,
                            "#7201a8"
                          ],
                          [
                            0.3333333333333333,
                            "#9c179e"
                          ],
                          [
                            0.4444444444444444,
                            "#bd3786"
                          ],
                          [
                            0.5555555555555556,
                            "#d8576b"
                          ],
                          [
                            0.6666666666666666,
                            "#ed7953"
                          ],
                          [
                            0.7777777777777778,
                            "#fb9f3a"
                          ],
                          [
                            0.8888888888888888,
                            "#fdca26"
                          ],
                          [
                            1,
                            "#f0f921"
                          ]
                        ],
                        "type": "histogram2dcontour"
                      }
                    ],
                    "mesh3d": [
                      {
                        "colorbar": {
                          "outlinewidth": 0,
                          "ticks": ""
                        },
                        "type": "mesh3d"
                      }
                    ],
                    "parcoords": [
                      {
                        "line": {
                          "colorbar": {
                            "outlinewidth": 0,
                            "ticks": ""
                          }
                        },
                        "type": "parcoords"
                      }
                    ],
                    "pie": [
                      {
                        "automargin": true,
                        "type": "pie"
                      }
                    ],
                    "scatter": [
                      {
                        "marker": {
                          "colorbar": {
                            "outlinewidth": 0,
                            "ticks": ""
                          }
                        },
                        "type": "scatter"
                      }
                    ],
                    "scatter3d": [
                      {
                        "line": {
                          "colorbar": {
                            "outlinewidth": 0,
                            "ticks": ""
                          }
                        },
                        "marker": {
                          "colorbar": {
                            "outlinewidth": 0,
                            "ticks": ""
                          }
                        },
                        "type": "scatter3d"
                      }
                    ],
                    "scattercarpet": [
                      {
                        "marker": {
                          "colorbar": {
                            "outlinewidth": 0,
                            "ticks": ""
                          }
                        },
                        "type": "scattercarpet"
                      }
                    ],
                    "scattergeo": [
                      {
                        "marker": {
                          "colorbar": {
                            "outlinewidth": 0,
                            "ticks": ""
                          }
                        },
                        "type": "scattergeo"
                      }
                    ],
                    "scattergl": [
                      {
                        "marker": {
                          "colorbar": {
                            "outlinewidth": 0,
                            "ticks": ""
                          }
                        },
                        "type": "scattergl"
                      }
                    ],
                    "scattermapbox": [
                      {
                        "marker": {
                          "colorbar": {
                            "outlinewidth": 0,
                            "ticks": ""
                          }
                        },
                        "type": "scattermapbox"
                      }
                    ],
                    "scatterpolar": [
                      {
                        "marker": {
                          "colorbar": {
                            "outlinewidth": 0,
                            "ticks": ""
                          }
                        },
                        "type": "scatterpolar"
                      }
                    ],
                    "scatterpolargl": [
                      {
                        "marker": {
                          "colorbar": {
                            "outlinewidth": 0,
                            "ticks": ""
                          }
                        },
                        "type": "scatterpolargl"
                      }
                    ],
                    "scatterternary": [
                      {
                        "marker": {
                          "colorbar": {
                            "outlinewidth": 0,
                            "ticks": ""
                          }
                        },
                        "type": "scatterternary"
                      }
                    ],
                    "surface": [
                      {
                        "colorbar": {
                          "outlinewidth": 0,
                          "ticks": ""
                        },
                        "colorscale": [
                          [
                            0,
                            "#0d0887"
                          ],
                          [
                            0.1111111111111111,
                            "#46039f"
                          ],
                          [
                            0.2222222222222222,
                            "#7201a8"
                          ],
                          [
                            0.3333333333333333,
                            "#9c179e"
                          ],
                          [
                            0.4444444444444444,
                            "#bd3786"
                          ],
                          [
                            0.5555555555555556,
                            "#d8576b"
                          ],
                          [
                            0.6666666666666666,
                            "#ed7953"
                          ],
                          [
                            0.7777777777777778,
                            "#fb9f3a"
                          ],
                          [
                            0.8888888888888888,
                            "#fdca26"
                          ],
                          [
                            1,
                            "#f0f921"
                          ]
                        ],
                        "type": "surface"
                      }
                    ],
                    "table": [
                      {
                        "cells": {
                          "fill": {
                            "color": "#EBF0F8"
                          },
                          "line": {
                            "color": "white"
                          }
                        },
                        "header": {
                          "fill": {
                            "color": "#C8D4E3"
                          },
                          "line": {
                            "color": "white"
                          }
                        },
                        "type": "table"
                      }
                    ]
                  },
                  "layout": {
                    "annotationdefaults": {
                      "arrowcolor": "#2a3f5f",
                      "arrowhead": 0,
                      "arrowwidth": 1
                    },
                    "autotypenumbers": "strict",
                    "coloraxis": {
                      "colorbar": {
                        "outlinewidth": 0,
                        "ticks": ""
                      }
                    },
                    "colorscale": {
                      "diverging": [
                        [
                          0,
                          "#8e0152"
                        ],
                        [
                          0.1,
                          "#c51b7d"
                        ],
                        [
                          0.2,
                          "#de77ae"
                        ],
                        [
                          0.3,
                          "#f1b6da"
                        ],
                        [
                          0.4,
                          "#fde0ef"
                        ],
                        [
                          0.5,
                          "#f7f7f7"
                        ],
                        [
                          0.6,
                          "#e6f5d0"
                        ],
                        [
                          0.7,
                          "#b8e186"
                        ],
                        [
                          0.8,
                          "#7fbc41"
                        ],
                        [
                          0.9,
                          "#4d9221"
                        ],
                        [
                          1,
                          "#276419"
                        ]
                      ],
                      "sequential": [
                        [
                          0,
                          "#0d0887"
                        ],
                        [
                          0.1111111111111111,
                          "#46039f"
                        ],
                        [
                          0.2222222222222222,
                          "#7201a8"
                        ],
                        [
                          0.3333333333333333,
                          "#9c179e"
                        ],
                        [
                          0.4444444444444444,
                          "#bd3786"
                        ],
                        [
                          0.5555555555555556,
                          "#d8576b"
                        ],
                        [
                          0.6666666666666666,
                          "#ed7953"
                        ],
                        [
                          0.7777777777777778,
                          "#fb9f3a"
                        ],
                        [
                          0.8888888888888888,
                          "#fdca26"
                        ],
                        [
                          1,
                          "#f0f921"
                        ]
                      ],
                      "sequentialminus": [
                        [
                          0,
                          "#0d0887"
                        ],
                        [
                          0.1111111111111111,
                          "#46039f"
                        ],
                        [
                          0.2222222222222222,
                          "#7201a8"
                        ],
                        [
                          0.3333333333333333,
                          "#9c179e"
                        ],
                        [
                          0.4444444444444444,
                          "#bd3786"
                        ],
                        [
                          0.5555555555555556,
                          "#d8576b"
                        ],
                        [
                          0.6666666666666666,
                          "#ed7953"
                        ],
                        [
                          0.7777777777777778,
                          "#fb9f3a"
                        ],
                        [
                          0.8888888888888888,
                          "#fdca26"
                        ],
                        [
                          1,
                          "#f0f921"
                        ]
                      ]
                    },
                    "colorway": [
                      "#636efa",
                      "#EF553B",
                      "#00cc96",
                      "#ab63fa",
                      "#FFA15A",
                      "#19d3f3",
                      "#FF6692",
                      "#B6E880",
                      "#FF97FF",
                      "#FECB52"
                    ],
                    "font": {
                      "color": "#2a3f5f"
                    },
                    "geo": {
                      "bgcolor": "white",
                      "lakecolor": "white",
                      "landcolor": "#E5ECF6",
                      "showlakes": true,
                      "showland": true,
                      "subunitcolor": "white"
                    },
                    "hoverlabel": {
                      "align": "left"
                    },
                    "hovermode": "closest",
                    "mapbox": {
                      "style": "light"
                    },
                    "paper_bgcolor": "white",
                    "plot_bgcolor": "#E5ECF6",
                    "polar": {
                      "angularaxis": {
                        "gridcolor": "white",
                        "linecolor": "white",
                        "ticks": ""
                      },
                      "bgcolor": "#E5ECF6",
                      "radialaxis": {
                        "gridcolor": "white",
                        "linecolor": "white",
                        "ticks": ""
                      }
                    },
                    "scene": {
                      "xaxis": {
                        "backgroundcolor": "#E5ECF6",
                        "gridcolor": "white",
                        "gridwidth": 2,
                        "linecolor": "white",
                        "showbackground": true,
                        "ticks": "",
                        "zerolinecolor": "white"
                      },
                      "yaxis": {
                        "backgroundcolor": "#E5ECF6",
                        "gridcolor": "white",
                        "gridwidth": 2,
                        "linecolor": "white",
                        "showbackground": true,
                        "ticks": "",
                        "zerolinecolor": "white"
                      },
                      "zaxis": {
                        "backgroundcolor": "#E5ECF6",
                        "gridcolor": "white",
                        "gridwidth": 2,
                        "linecolor": "white",
                        "showbackground": true,
                        "ticks": "",
                        "zerolinecolor": "white"
                      }
                    },
                    "shapedefaults": {
                      "line": {
                        "color": "#2a3f5f"
                      }
                    },
                    "ternary": {
                      "aaxis": {
                        "gridcolor": "white",
                        "linecolor": "white",
                        "ticks": ""
                      },
                      "baxis": {
                        "gridcolor": "white",
                        "linecolor": "white",
                        "ticks": ""
                      },
                      "bgcolor": "#E5ECF6",
                      "caxis": {
                        "gridcolor": "white",
                        "linecolor": "white",
                        "ticks": ""
                      }
                    },
                    "title": {
                      "x": 0.05
                    },
                    "xaxis": {
                      "automargin": true,
                      "gridcolor": "white",
                      "linecolor": "white",
                      "ticks": "",
                      "title": {
                        "standoff": 15
                      },
                      "zerolinecolor": "white",
                      "zerolinewidth": 2
                    },
                    "yaxis": {
                      "automargin": true,
                      "gridcolor": "white",
                      "linecolor": "white",
                      "ticks": "",
                      "title": {
                        "standoff": 15
                      },
                      "zerolinecolor": "white",
                      "zerolinewidth": 2
                    }
                  }
                },
                "title": {
                  "font": {
                    "size": 18
                  },
                  "text": "🔥 Loss Ratio Heatmap: Risk Patterns by Province & Vehicle Type",
                  "x": 0.5,
                  "xanchor": "center"
                },
                "width": 900,
                "xaxis": {
                  "title": {
                    "text": "Vehicle Type"
                  }
                },
                "yaxis": {
                  "title": {
                    "text": "Province"
                  }
                }
              }
            }
          },
          "metadata": {},
          "output_type": "display_data"
        },
        {
          "name": "stdout",
          "output_type": "stream",
          "text": [
            "✅ Heatmap created - Shows risk concentration patterns across geography and vehicle types\n"
          ]
        }
      ],
      "source": [
        "# VISUALIZATION 1: Interactive Loss Ratio Heatmap by Province and Vehicle Type\n",
        "print(\"Creating Visualization 1: Interactive Loss Ratio Heatmap\")\n",
        "\n",
        "# Create pivot table for heatmap\n",
        "loss_ratio_pivot = df.groupby(['Province', 'VehicleType']).agg({\n",
        "    'TotalClaims': 'sum',\n",
        "    'TotalPremium': 'sum'\n",
        "}).reset_index()\n",
        "\n",
        "loss_ratio_pivot['Loss_Ratio'] = loss_ratio_pivot['TotalClaims'] / loss_ratio_pivot['TotalPremium']\n",
        "heatmap_data = loss_ratio_pivot.pivot(index='Province', columns='VehicleType', values='Loss_Ratio')\n",
        "\n",
        "# Create interactive heatmap using Plotly\n",
        "fig1 = go.Figure(data=go.Heatmap(\n",
        "    z=heatmap_data.values,\n",
        "    x=heatmap_data.columns,\n",
        "    y=heatmap_data.index,\n",
        "    colorscale='RdYlBu_r',\n",
        "    colorbar=dict(title=\"Loss Ratio\"),\n",
        "    hoverongaps=False,\n",
        "    hovertemplate='Province: %{y}<br>Vehicle Type: %{x}<br>Loss Ratio: %{z:.4f}<extra></extra>'\n",
        "))\n",
        "\n",
        "fig1.update_layout(\n",
        "    title={\n",
        "        'text': 'Loss Ratio Heatmap: Risk Patterns by Province & Vehicle Type',\n",
        "        'x': 0.5,\n",
        "        'xanchor': 'center',\n",
        "        'font': {'size': 18}\n",
        "    },\n",
        "    xaxis_title=\"Vehicle Type\",\n",
        "    yaxis_title=\"Province\",\n",
        "    font=dict(size=12),\n",
        "    height=600,\n",
        "    width=900\n",
        ")\n",
        "\n",
        "fig1.show()\n",
        "print(\"Heatmap created - Shows risk concentration patterns across geography and vehicle types\")\n"
      ]
    },
    {
      "cell_type": "code",
      "execution_count": null,
      "metadata": {},
      "outputs": [
        {
          "name": "stdout",
          "output_type": "stream",
          "text": [
            "🎨 Creating Visualization 2: Risk vs Profitability Bubble Chart\n"
          ]
        },
        {
          "data": {
            "application/vnd.plotly.v1+json": {
              "config": {
                "plotlyServerURL": "https://plot.ly"
              },
              "data": [
                {
                  "customdata": [
                    [
                      858,
                      6885.136491841492
                    ],
                    [
                      871,
                      6398.5952468427095
                    ],
                    [
                      799,
                      6413.53406758448
                    ],
                    [
                      842,
                      6501.94497624703
                    ],
                    [
                      814,
                      6477.657555282555
                    ],
                    [
                      830,
                      6491.349168674698
                    ],
                    [
                      796,
                      6550.671771356784
                    ],
                    [
                      843,
                      6636.784685646501
                    ],
                    [
                      829,
                      6850.886417370326
                    ],
                    [
                      829,
                      6361.852641737032
                    ],
                    [
                      839,
                      6234.558915375446
                    ],
                    [
                      850,
                      6838.131529411765
                    ]
                  ],
                  "hovertemplate": "<b>%{hovertext}</b><br><br>Claim Frequency (%)=%{x:.2f}<br>Loss Ratio=%{y:.4f}<br>Number of Policies=%{customdata[0]:,}<br>Avg Vehicle Value ($)=%{marker.color:,.0f}<extra></extra>",
                  "hovertext": [
                    "Audi",
                    "BMW",
                    "Chevrolet",
                    "Ford",
                    "Honda",
                    "Hyundai",
                    "Kia",
                    "Mazda",
                    "Mercedes",
                    "Nissan",
                    "Toyota",
                    "Volkswagen"
                  ],
                  "legendgroup": "",
                  "marker": {
                    "color": [
                      6885.136491841492,
                      6398.5952468427095,
                      6413.53406758448,
                      6501.94497624703,
                      6477.657555282555,
                      6491.349168674698,
                      6550.671771356784,
                      6636.784685646501,
                      6850.886417370326,
                      6361.852641737032,
                      6234.558915375446,
                      6838.131529411765
                    ],
                    "coloraxis": "coloraxis",
                    "size": [
                      858,
                      871,
                      799,
                      842,
                      814,
                      830,
                      796,
                      843,
                      829,
                      829,
                      839,
                      850
                    ],
                    "sizemode": "area",
                    "sizeref": 2.1775,
                    "symbol": "circle"
                  },
                  "mode": "markers",
                  "name": "",
                  "orientation": "v",
                  "showlegend": false,
                  "type": "scatter",
                  "x": [
                    15.85081585081585,
                    16.073478760045926,
                    15.519399249061328,
                    14.608076009501186,
                    15.601965601965603,
                    12.289156626506024,
                    15.7035175879397,
                    14.116251482799525,
                    15.199034981905909,
                    17.73220747889023,
                    13.825983313468415,
                    17.176470588235293
                  ],
                  "xaxis": "x",
                  "y": [
                    0.32959504904178283,
                    0.3350213456730917,
                    0.31312572554876517,
                    0.31885263083282545,
                    0.30264030180933366,
                    0.27951052017859945,
                    0.34723208556398844,
                    0.30284230797755796,
                    0.38134118398463124,
                    0.39413371024617533,
                    0.2882902278734094,
                    0.38801274894260157
                  ],
                  "yaxis": "y"
                }
              ],
              "layout": {
                "annotations": [
                  {
                    "showarrow": false,
                    "text": "Average Loss Ratio",
                    "x": 1,
                    "xanchor": "left",
                    "xref": "x domain",
                    "y": 0.33171648647273017,
                    "yanchor": "middle",
                    "yref": "y"
                  },
                  {
                    "showarrow": false,
                    "text": "Average Claim Frequency",
                    "x": 15.308029794261252,
                    "xanchor": "center",
                    "xref": "x",
                    "y": 1,
                    "yanchor": "bottom",
                    "yref": "y domain"
                  }
                ],
                "coloraxis": {
                  "colorbar": {
                    "title": {
                      "text": "Avg Vehicle Value ($)"
                    }
                  },
                  "colorscale": [
                    [
                      0,
                      "#440154"
                    ],
                    [
                      0.1111111111111111,
                      "#482878"
                    ],
                    [
                      0.2222222222222222,
                      "#3e4989"
                    ],
                    [
                      0.3333333333333333,
                      "#31688e"
                    ],
                    [
                      0.4444444444444444,
                      "#26828e"
                    ],
                    [
                      0.5555555555555556,
                      "#1f9e89"
                    ],
                    [
                      0.6666666666666666,
                      "#35b779"
                    ],
                    [
                      0.7777777777777778,
                      "#6ece58"
                    ],
                    [
                      0.8888888888888888,
                      "#b5de2b"
                    ],
                    [
                      1,
                      "#fde725"
                    ]
                  ]
                },
                "height": 700,
                "legend": {
                  "itemsizing": "constant",
                  "tracegroupgap": 0
                },
                "shapes": [
                  {
                    "line": {
                      "color": "red",
                      "dash": "dash"
                    },
                    "type": "line",
                    "x0": 0,
                    "x1": 1,
                    "xref": "x domain",
                    "y0": 0.33171648647273017,
                    "y1": 0.33171648647273017,
                    "yref": "y"
                  },
                  {
                    "line": {
                      "color": "red",
                      "dash": "dash"
                    },
                    "type": "line",
                    "x0": 15.308029794261252,
                    "x1": 15.308029794261252,
                    "xref": "x",
                    "y0": 0,
                    "y1": 1,
                    "yref": "y domain"
                  }
                ],
                "template": {
                  "data": {
                    "bar": [
                      {
                        "error_x": {
                          "color": "#2a3f5f"
                        },
                        "error_y": {
                          "color": "#2a3f5f"
                        },
                        "marker": {
                          "line": {
                            "color": "#E5ECF6",
                            "width": 0.5
                          },
                          "pattern": {
                            "fillmode": "overlay",
                            "size": 10,
                            "solidity": 0.2
                          }
                        },
                        "type": "bar"
                      }
                    ],
                    "barpolar": [
                      {
                        "marker": {
                          "line": {
                            "color": "#E5ECF6",
                            "width": 0.5
                          },
                          "pattern": {
                            "fillmode": "overlay",
                            "size": 10,
                            "solidity": 0.2
                          }
                        },
                        "type": "barpolar"
                      }
                    ],
                    "carpet": [
                      {
                        "aaxis": {
                          "endlinecolor": "#2a3f5f",
                          "gridcolor": "white",
                          "linecolor": "white",
                          "minorgridcolor": "white",
                          "startlinecolor": "#2a3f5f"
                        },
                        "baxis": {
                          "endlinecolor": "#2a3f5f",
                          "gridcolor": "white",
                          "linecolor": "white",
                          "minorgridcolor": "white",
                          "startlinecolor": "#2a3f5f"
                        },
                        "type": "carpet"
                      }
                    ],
                    "choropleth": [
                      {
                        "colorbar": {
                          "outlinewidth": 0,
                          "ticks": ""
                        },
                        "type": "choropleth"
                      }
                    ],
                    "contour": [
                      {
                        "colorbar": {
                          "outlinewidth": 0,
                          "ticks": ""
                        },
                        "colorscale": [
                          [
                            0,
                            "#0d0887"
                          ],
                          [
                            0.1111111111111111,
                            "#46039f"
                          ],
                          [
                            0.2222222222222222,
                            "#7201a8"
                          ],
                          [
                            0.3333333333333333,
                            "#9c179e"
                          ],
                          [
                            0.4444444444444444,
                            "#bd3786"
                          ],
                          [
                            0.5555555555555556,
                            "#d8576b"
                          ],
                          [
                            0.6666666666666666,
                            "#ed7953"
                          ],
                          [
                            0.7777777777777778,
                            "#fb9f3a"
                          ],
                          [
                            0.8888888888888888,
                            "#fdca26"
                          ],
                          [
                            1,
                            "#f0f921"
                          ]
                        ],
                        "type": "contour"
                      }
                    ],
                    "contourcarpet": [
                      {
                        "colorbar": {
                          "outlinewidth": 0,
                          "ticks": ""
                        },
                        "type": "contourcarpet"
                      }
                    ],
                    "heatmap": [
                      {
                        "colorbar": {
                          "outlinewidth": 0,
                          "ticks": ""
                        },
                        "colorscale": [
                          [
                            0,
                            "#0d0887"
                          ],
                          [
                            0.1111111111111111,
                            "#46039f"
                          ],
                          [
                            0.2222222222222222,
                            "#7201a8"
                          ],
                          [
                            0.3333333333333333,
                            "#9c179e"
                          ],
                          [
                            0.4444444444444444,
                            "#bd3786"
                          ],
                          [
                            0.5555555555555556,
                            "#d8576b"
                          ],
                          [
                            0.6666666666666666,
                            "#ed7953"
                          ],
                          [
                            0.7777777777777778,
                            "#fb9f3a"
                          ],
                          [
                            0.8888888888888888,
                            "#fdca26"
                          ],
                          [
                            1,
                            "#f0f921"
                          ]
                        ],
                        "type": "heatmap"
                      }
                    ],
                    "heatmapgl": [
                      {
                        "colorbar": {
                          "outlinewidth": 0,
                          "ticks": ""
                        },
                        "colorscale": [
                          [
                            0,
                            "#0d0887"
                          ],
                          [
                            0.1111111111111111,
                            "#46039f"
                          ],
                          [
                            0.2222222222222222,
                            "#7201a8"
                          ],
                          [
                            0.3333333333333333,
                            "#9c179e"
                          ],
                          [
                            0.4444444444444444,
                            "#bd3786"
                          ],
                          [
                            0.5555555555555556,
                            "#d8576b"
                          ],
                          [
                            0.6666666666666666,
                            "#ed7953"
                          ],
                          [
                            0.7777777777777778,
                            "#fb9f3a"
                          ],
                          [
                            0.8888888888888888,
                            "#fdca26"
                          ],
                          [
                            1,
                            "#f0f921"
                          ]
                        ],
                        "type": "heatmapgl"
                      }
                    ],
                    "histogram": [
                      {
                        "marker": {
                          "pattern": {
                            "fillmode": "overlay",
                            "size": 10,
                            "solidity": 0.2
                          }
                        },
                        "type": "histogram"
                      }
                    ],
                    "histogram2d": [
                      {
                        "colorbar": {
                          "outlinewidth": 0,
                          "ticks": ""
                        },
                        "colorscale": [
                          [
                            0,
                            "#0d0887"
                          ],
                          [
                            0.1111111111111111,
                            "#46039f"
                          ],
                          [
                            0.2222222222222222,
                            "#7201a8"
                          ],
                          [
                            0.3333333333333333,
                            "#9c179e"
                          ],
                          [
                            0.4444444444444444,
                            "#bd3786"
                          ],
                          [
                            0.5555555555555556,
                            "#d8576b"
                          ],
                          [
                            0.6666666666666666,
                            "#ed7953"
                          ],
                          [
                            0.7777777777777778,
                            "#fb9f3a"
                          ],
                          [
                            0.8888888888888888,
                            "#fdca26"
                          ],
                          [
                            1,
                            "#f0f921"
                          ]
                        ],
                        "type": "histogram2d"
                      }
                    ],
                    "histogram2dcontour": [
                      {
                        "colorbar": {
                          "outlinewidth": 0,
                          "ticks": ""
                        },
                        "colorscale": [
                          [
                            0,
                            "#0d0887"
                          ],
                          [
                            0.1111111111111111,
                            "#46039f"
                          ],
                          [
                            0.2222222222222222,
                            "#7201a8"
                          ],
                          [
                            0.3333333333333333,
                            "#9c179e"
                          ],
                          [
                            0.4444444444444444,
                            "#bd3786"
                          ],
                          [
                            0.5555555555555556,
                            "#d8576b"
                          ],
                          [
                            0.6666666666666666,
                            "#ed7953"
                          ],
                          [
                            0.7777777777777778,
                            "#fb9f3a"
                          ],
                          [
                            0.8888888888888888,
                            "#fdca26"
                          ],
                          [
                            1,
                            "#f0f921"
                          ]
                        ],
                        "type": "histogram2dcontour"
                      }
                    ],
                    "mesh3d": [
                      {
                        "colorbar": {
                          "outlinewidth": 0,
                          "ticks": ""
                        },
                        "type": "mesh3d"
                      }
                    ],
                    "parcoords": [
                      {
                        "line": {
                          "colorbar": {
                            "outlinewidth": 0,
                            "ticks": ""
                          }
                        },
                        "type": "parcoords"
                      }
                    ],
                    "pie": [
                      {
                        "automargin": true,
                        "type": "pie"
                      }
                    ],
                    "scatter": [
                      {
                        "marker": {
                          "colorbar": {
                            "outlinewidth": 0,
                            "ticks": ""
                          }
                        },
                        "type": "scatter"
                      }
                    ],
                    "scatter3d": [
                      {
                        "line": {
                          "colorbar": {
                            "outlinewidth": 0,
                            "ticks": ""
                          }
                        },
                        "marker": {
                          "colorbar": {
                            "outlinewidth": 0,
                            "ticks": ""
                          }
                        },
                        "type": "scatter3d"
                      }
                    ],
                    "scattercarpet": [
                      {
                        "marker": {
                          "colorbar": {
                            "outlinewidth": 0,
                            "ticks": ""
                          }
                        },
                        "type": "scattercarpet"
                      }
                    ],
                    "scattergeo": [
                      {
                        "marker": {
                          "colorbar": {
                            "outlinewidth": 0,
                            "ticks": ""
                          }
                        },
                        "type": "scattergeo"
                      }
                    ],
                    "scattergl": [
                      {
                        "marker": {
                          "colorbar": {
                            "outlinewidth": 0,
                            "ticks": ""
                          }
                        },
                        "type": "scattergl"
                      }
                    ],
                    "scattermapbox": [
                      {
                        "marker": {
                          "colorbar": {
                            "outlinewidth": 0,
                            "ticks": ""
                          }
                        },
                        "type": "scattermapbox"
                      }
                    ],
                    "scatterpolar": [
                      {
                        "marker": {
                          "colorbar": {
                            "outlinewidth": 0,
                            "ticks": ""
                          }
                        },
                        "type": "scatterpolar"
                      }
                    ],
                    "scatterpolargl": [
                      {
                        "marker": {
                          "colorbar": {
                            "outlinewidth": 0,
                            "ticks": ""
                          }
                        },
                        "type": "scatterpolargl"
                      }
                    ],
                    "scatterternary": [
                      {
                        "marker": {
                          "colorbar": {
                            "outlinewidth": 0,
                            "ticks": ""
                          }
                        },
                        "type": "scatterternary"
                      }
                    ],
                    "surface": [
                      {
                        "colorbar": {
                          "outlinewidth": 0,
                          "ticks": ""
                        },
                        "colorscale": [
                          [
                            0,
                            "#0d0887"
                          ],
                          [
                            0.1111111111111111,
                            "#46039f"
                          ],
                          [
                            0.2222222222222222,
                            "#7201a8"
                          ],
                          [
                            0.3333333333333333,
                            "#9c179e"
                          ],
                          [
                            0.4444444444444444,
                            "#bd3786"
                          ],
                          [
                            0.5555555555555556,
                            "#d8576b"
                          ],
                          [
                            0.6666666666666666,
                            "#ed7953"
                          ],
                          [
                            0.7777777777777778,
                            "#fb9f3a"
                          ],
                          [
                            0.8888888888888888,
                            "#fdca26"
                          ],
                          [
                            1,
                            "#f0f921"
                          ]
                        ],
                        "type": "surface"
                      }
                    ],
                    "table": [
                      {
                        "cells": {
                          "fill": {
                            "color": "#EBF0F8"
                          },
                          "line": {
                            "color": "white"
                          }
                        },
                        "header": {
                          "fill": {
                            "color": "#C8D4E3"
                          },
                          "line": {
                            "color": "white"
                          }
                        },
                        "type": "table"
                      }
                    ]
                  },
                  "layout": {
                    "annotationdefaults": {
                      "arrowcolor": "#2a3f5f",
                      "arrowhead": 0,
                      "arrowwidth": 1
                    },
                    "autotypenumbers": "strict",
                    "coloraxis": {
                      "colorbar": {
                        "outlinewidth": 0,
                        "ticks": ""
                      }
                    },
                    "colorscale": {
                      "diverging": [
                        [
                          0,
                          "#8e0152"
                        ],
                        [
                          0.1,
                          "#c51b7d"
                        ],
                        [
                          0.2,
                          "#de77ae"
                        ],
                        [
                          0.3,
                          "#f1b6da"
                        ],
                        [
                          0.4,
                          "#fde0ef"
                        ],
                        [
                          0.5,
                          "#f7f7f7"
                        ],
                        [
                          0.6,
                          "#e6f5d0"
                        ],
                        [
                          0.7,
                          "#b8e186"
                        ],
                        [
                          0.8,
                          "#7fbc41"
                        ],
                        [
                          0.9,
                          "#4d9221"
                        ],
                        [
                          1,
                          "#276419"
                        ]
                      ],
                      "sequential": [
                        [
                          0,
                          "#0d0887"
                        ],
                        [
                          0.1111111111111111,
                          "#46039f"
                        ],
                        [
                          0.2222222222222222,
                          "#7201a8"
                        ],
                        [
                          0.3333333333333333,
                          "#9c179e"
                        ],
                        [
                          0.4444444444444444,
                          "#bd3786"
                        ],
                        [
                          0.5555555555555556,
                          "#d8576b"
                        ],
                        [
                          0.6666666666666666,
                          "#ed7953"
                        ],
                        [
                          0.7777777777777778,
                          "#fb9f3a"
                        ],
                        [
                          0.8888888888888888,
                          "#fdca26"
                        ],
                        [
                          1,
                          "#f0f921"
                        ]
                      ],
                      "sequentialminus": [
                        [
                          0,
                          "#0d0887"
                        ],
                        [
                          0.1111111111111111,
                          "#46039f"
                        ],
                        [
                          0.2222222222222222,
                          "#7201a8"
                        ],
                        [
                          0.3333333333333333,
                          "#9c179e"
                        ],
                        [
                          0.4444444444444444,
                          "#bd3786"
                        ],
                        [
                          0.5555555555555556,
                          "#d8576b"
                        ],
                        [
                          0.6666666666666666,
                          "#ed7953"
                        ],
                        [
                          0.7777777777777778,
                          "#fb9f3a"
                        ],
                        [
                          0.8888888888888888,
                          "#fdca26"
                        ],
                        [
                          1,
                          "#f0f921"
                        ]
                      ]
                    },
                    "colorway": [
                      "#636efa",
                      "#EF553B",
                      "#00cc96",
                      "#ab63fa",
                      "#FFA15A",
                      "#19d3f3",
                      "#FF6692",
                      "#B6E880",
                      "#FF97FF",
                      "#FECB52"
                    ],
                    "font": {
                      "color": "#2a3f5f"
                    },
                    "geo": {
                      "bgcolor": "white",
                      "lakecolor": "white",
                      "landcolor": "#E5ECF6",
                      "showlakes": true,
                      "showland": true,
                      "subunitcolor": "white"
                    },
                    "hoverlabel": {
                      "align": "left"
                    },
                    "hovermode": "closest",
                    "mapbox": {
                      "style": "light"
                    },
                    "paper_bgcolor": "white",
                    "plot_bgcolor": "#E5ECF6",
                    "polar": {
                      "angularaxis": {
                        "gridcolor": "white",
                        "linecolor": "white",
                        "ticks": ""
                      },
                      "bgcolor": "#E5ECF6",
                      "radialaxis": {
                        "gridcolor": "white",
                        "linecolor": "white",
                        "ticks": ""
                      }
                    },
                    "scene": {
                      "xaxis": {
                        "backgroundcolor": "#E5ECF6",
                        "gridcolor": "white",
                        "gridwidth": 2,
                        "linecolor": "white",
                        "showbackground": true,
                        "ticks": "",
                        "zerolinecolor": "white"
                      },
                      "yaxis": {
                        "backgroundcolor": "#E5ECF6",
                        "gridcolor": "white",
                        "gridwidth": 2,
                        "linecolor": "white",
                        "showbackground": true,
                        "ticks": "",
                        "zerolinecolor": "white"
                      },
                      "zaxis": {
                        "backgroundcolor": "#E5ECF6",
                        "gridcolor": "white",
                        "gridwidth": 2,
                        "linecolor": "white",
                        "showbackground": true,
                        "ticks": "",
                        "zerolinecolor": "white"
                      }
                    },
                    "shapedefaults": {
                      "line": {
                        "color": "#2a3f5f"
                      }
                    },
                    "ternary": {
                      "aaxis": {
                        "gridcolor": "white",
                        "linecolor": "white",
                        "ticks": ""
                      },
                      "baxis": {
                        "gridcolor": "white",
                        "linecolor": "white",
                        "ticks": ""
                      },
                      "bgcolor": "#E5ECF6",
                      "caxis": {
                        "gridcolor": "white",
                        "linecolor": "white",
                        "ticks": ""
                      }
                    },
                    "title": {
                      "x": 0.05
                    },
                    "xaxis": {
                      "automargin": true,
                      "gridcolor": "white",
                      "linecolor": "white",
                      "ticks": "",
                      "title": {
                        "standoff": 15
                      },
                      "zerolinecolor": "white",
                      "zerolinewidth": 2
                    },
                    "yaxis": {
                      "automargin": true,
                      "gridcolor": "white",
                      "linecolor": "white",
                      "ticks": "",
                      "title": {
                        "standoff": 15
                      },
                      "zerolinecolor": "white",
                      "zerolinewidth": 2
                    }
                  }
                },
                "title": {
                  "font": {
                    "size": 16
                  },
                  "text": "💼 Risk vs Profitability: Vehicle Make Analysis<br><sub>Size = Portfolio Size, Color = Average Vehicle Value</sub>",
                  "x": 0.5
                },
                "width": 1000,
                "xaxis": {
                  "anchor": "y",
                  "domain": [
                    0,
                    1
                  ],
                  "title": {
                    "text": "Claim Frequency (%)"
                  }
                },
                "yaxis": {
                  "anchor": "x",
                  "domain": [
                    0,
                    1
                  ],
                  "title": {
                    "text": "Loss Ratio"
                  }
                }
              }
            }
          },
          "metadata": {},
          "output_type": "display_data"
        },
        {
          "name": "stdout",
          "output_type": "stream",
          "text": [
            "✅ Bubble chart created - Reveals risk-profitability relationships and portfolio concentration\n"
          ]
        }
      ],
      "source": [
        "# VISUALIZATION 2: Multi-Dimensional Bubble Chart - Risk vs Profitability\n",
        "print(\"Creating Visualization 2: Risk vs Profitability Bubble Chart\")\n",
        "\n",
        "# Prepare data for bubble chart\n",
        "bubble_data = df.groupby('VehicleMake').agg({\n",
        "    'TotalClaims': 'sum',\n",
        "    'TotalPremium': 'sum',\n",
        "    'HasClaim': 'mean',\n",
        "    'PolicyID': 'count',\n",
        "    'CustomValueEstimate': 'mean'\n",
        "}).reset_index()\n",
        "\n",
        "bubble_data['Loss_Ratio'] = bubble_data['TotalClaims'] / bubble_data['TotalPremium']\n",
        "bubble_data['Claim_Frequency'] = bubble_data['HasClaim'] * 100\n",
        "bubble_data['Portfolio_Size'] = bubble_data['PolicyID']\n",
        "\n",
        "# Create bubble chart\n",
        "fig2 = px.scatter(\n",
        "    bubble_data,\n",
        "    x='Claim_Frequency',\n",
        "    y='Loss_Ratio',\n",
        "    size='Portfolio_Size',\n",
        "    color='CustomValueEstimate',\n",
        "    hover_name='VehicleMake',\n",
        "    hover_data={\n",
        "        'Claim_Frequency': ':.2f',\n",
        "        'Loss_Ratio': ':.4f',\n",
        "        'Portfolio_Size': ':,',\n",
        "        'CustomValueEstimate': ':,.0f'\n",
        "    },\n",
        "    labels={\n",
        "        'Claim_Frequency': 'Claim Frequency (%)',\n",
        "        'Loss_Ratio': 'Loss Ratio',\n",
        "        'Portfolio_Size': 'Number of Policies',\n",
        "        'CustomValueEstimate': 'Avg Vehicle Value ($)'\n",
        "    },\n",
        "    title='Risk vs Profitability: Vehicle Make Analysis<br><sub>Size = Portfolio Size, Color = Average Vehicle Value</sub>',\n",
        "    color_continuous_scale='Viridis'\n",
        ")\n",
        "\n",
        "# Add quadrant lines\n",
        "avg_freq = bubble_data['Claim_Frequency'].mean()\n",
        "avg_loss = bubble_data['Loss_Ratio'].mean()\n",
        "\n",
        "fig2.add_hline(y=avg_loss, line_dash=\"dash\", line_color=\"red\", \n",
        "               annotation_text=\"Average Loss Ratio\", annotation_position=\"right\")\n",
        "fig2.add_vline(x=avg_freq, line_dash=\"dash\", line_color=\"red\",\n",
        "               annotation_text=\"Average Claim Frequency\", annotation_position=\"top\")\n",
        "\n",
        "fig2.update_layout(\n",
        "    width=1000,\n",
        "    height=700,\n",
        "    title_font_size=16,\n",
        "    title_x=0.5\n",
        ")\n",
        "\n",
        "fig2.show()\n",
        "print(\"Bubble chart created - Reveals risk-profitability relationships and portfolio concentration\")\n"
      ]
    },
    {
      "cell_type": "code",
      "execution_count": null,
      "metadata": {},
      "outputs": [
        {
          "name": "stdout",
          "output_type": "stream",
          "text": [
            "🎨 Creating Visualization 3: Temporal Evolution Dashboard\n"
          ]
        },
        {
          "data": {
            "application/vnd.plotly.v1+json": {
              "config": {
                "plotlyServerURL": "https://plot.ly"
              },
              "data": [
                {
                  "line": {
                    "color": "red",
                    "width": 3
                  },
                  "mode": "lines+markers",
                  "name": "Claim Frequency (%)",
                  "type": "scatter",
                  "x": [
                    "2022-01",
                    "2022-02",
                    "2022-03",
                    "2022-04",
                    "2022-05",
                    "2022-06",
                    "2022-07",
                    "2022-08",
                    "2022-09",
                    "2022-10",
                    "2022-11",
                    "2022-12",
                    "2023-01",
                    "2023-02",
                    "2023-03",
                    "2023-04",
                    "2023-05",
                    "2023-06",
                    "2023-07"
                  ],
                  "xaxis": "x",
                  "y": [
                    16.24548736462094,
                    15.8,
                    16.61392405063291,
                    13.818181818181818,
                    14.748201438848922,
                    16.666666666666664,
                    14.261744966442953,
                    15.167548500881834,
                    16.054158607350097,
                    15.087719298245613,
                    17.16417910447761,
                    13.559322033898304,
                    13.743218806509946,
                    16.63286004056795,
                    15.901060070671377,
                    16.428571428571427,
                    15.167548500881834,
                    13.001912045889103,
                    8.333333333333332
                  ],
                  "yaxis": "y"
                },
                {
                  "marker": {
                    "color": "lightblue"
                  },
                  "name": "Policy Count",
                  "opacity": 0.6,
                  "type": "bar",
                  "x": [
                    "2022-01",
                    "2022-02",
                    "2022-03",
                    "2022-04",
                    "2022-05",
                    "2022-06",
                    "2022-07",
                    "2022-08",
                    "2022-09",
                    "2022-10",
                    "2022-11",
                    "2022-12",
                    "2023-01",
                    "2023-02",
                    "2023-03",
                    "2023-04",
                    "2023-05",
                    "2023-06",
                    "2023-07"
                  ],
                  "xaxis": "x",
                  "y": [
                    554,
                    500,
                    632,
                    550,
                    556,
                    546,
                    596,
                    567,
                    517,
                    570,
                    536,
                    590,
                    553,
                    493,
                    566,
                    560,
                    567,
                    523,
                    24
                  ],
                  "yaxis": "y2"
                },
                {
                  "fill": "tonexty",
                  "line": {
                    "color": "orange",
                    "width": 3
                  },
                  "mode": "lines+markers",
                  "name": "Loss Ratio",
                  "type": "scatter",
                  "x": [
                    "2022-01",
                    "2022-02",
                    "2022-03",
                    "2022-04",
                    "2022-05",
                    "2022-06",
                    "2022-07",
                    "2022-08",
                    "2022-09",
                    "2022-10",
                    "2022-11",
                    "2022-12",
                    "2023-01",
                    "2023-02",
                    "2023-03",
                    "2023-04",
                    "2023-05",
                    "2023-06",
                    "2023-07"
                  ],
                  "xaxis": "x2",
                  "y": [
                    0.3750011236298127,
                    0.33791291195463025,
                    0.35546583649959906,
                    0.28313197690600117,
                    0.3014074789096999,
                    0.35690981288700335,
                    0.2945140531271315,
                    0.3242620134647746,
                    0.2904772859262107,
                    0.3133262478253689,
                    0.3924099003302458,
                    0.31554347759789486,
                    0.35263449292401405,
                    0.42562395998324604,
                    0.29322175506222176,
                    0.36896772689724094,
                    0.34718887782049146,
                    0.251799461780974,
                    0.22660819248701675
                  ],
                  "yaxis": "y3"
                },
                {
                  "line": {
                    "color": "green",
                    "width": 2
                  },
                  "mode": "lines+markers",
                  "name": "Premium Volume",
                  "type": "scatter",
                  "x": [
                    "2022-01",
                    "2022-02",
                    "2022-03",
                    "2022-04",
                    "2022-05",
                    "2022-06",
                    "2022-07",
                    "2022-08",
                    "2022-09",
                    "2022-10",
                    "2022-11",
                    "2022-12",
                    "2023-01",
                    "2023-02",
                    "2023-03",
                    "2023-04",
                    "2023-05",
                    "2023-06",
                    "2023-07"
                  ],
                  "xaxis": "x3",
                  "y": [
                    543995.89,
                    492779.69,
                    615333.17,
                    545878.61,
                    536020.11,
                    527603.65,
                    577277.92,
                    548995.45,
                    508684.18,
                    552536.25,
                    516766.6,
                    568911.49,
                    548066.38,
                    479337.23,
                    542833.29,
                    561235.78,
                    554120.17,
                    514508.01,
                    21851.24
                  ],
                  "yaxis": "y4"
                },
                {
                  "line": {
                    "color": "red",
                    "width": 2
                  },
                  "mode": "lines+markers",
                  "name": "Claims Volume",
                  "type": "scatter",
                  "x": [
                    "2022-01",
                    "2022-02",
                    "2022-03",
                    "2022-04",
                    "2022-05",
                    "2022-06",
                    "2022-07",
                    "2022-08",
                    "2022-09",
                    "2022-10",
                    "2022-11",
                    "2022-12",
                    "2023-01",
                    "2023-02",
                    "2023-03",
                    "2023-04",
                    "2023-05",
                    "2023-06",
                    "2023-07"
                  ],
                  "xaxis": "x3",
                  "y": [
                    203999.07,
                    166516.62,
                    218729.92,
                    154555.69,
                    161560.47,
                    188306.92,
                    170016.46,
                    178018.37,
                    147761.2,
                    173124.11,
                    202784.33,
                    179516.31,
                    193267.11,
                    204017.41,
                    159170.53,
                    207077.89,
                    192384.36,
                    129552.84,
                    4951.67
                  ],
                  "yaxis": "y5"
                },
                {
                  "marker": {
                    "color": "purple"
                  },
                  "name": "Risk Score",
                  "type": "bar",
                  "x": [
                    1,
                    2,
                    3,
                    4,
                    5,
                    6,
                    7,
                    8,
                    9,
                    10,
                    11,
                    12,
                    13
                  ],
                  "xaxis": "x4",
                  "y": [
                    68.17446370744278,
                    66.78237043856447,
                    88.01691554562208,
                    50.26129393833871,
                    61.338879847724705,
                    36.78518089983366,
                    43.43033974644566,
                    39.45665147928994,
                    47.635329821277615,
                    35.39740323697466,
                    37.49420267823828,
                    39.91806687206813,
                    36.47989870982345
                  ],
                  "yaxis": "y6"
                }
              ],
              "layout": {
                "annotations": [
                  {
                    "font": {
                      "size": 16
                    },
                    "showarrow": false,
                    "text": "Monthly Claim Frequency Trend",
                    "x": 0.21,
                    "xanchor": "center",
                    "xref": "paper",
                    "y": 1,
                    "yanchor": "bottom",
                    "yref": "paper"
                  },
                  {
                    "font": {
                      "size": 16
                    },
                    "showarrow": false,
                    "text": "Monthly Loss Ratio Evolution",
                    "x": 0.73,
                    "xanchor": "center",
                    "xref": "paper",
                    "y": 1,
                    "yanchor": "bottom",
                    "yref": "paper"
                  },
                  {
                    "font": {
                      "size": 16
                    },
                    "showarrow": false,
                    "text": "Premium vs Claims Volume",
                    "x": 0.21,
                    "xanchor": "center",
                    "xref": "paper",
                    "y": 0.44,
                    "yanchor": "bottom",
                    "yref": "paper"
                  },
                  {
                    "font": {
                      "size": 16
                    },
                    "showarrow": false,
                    "text": "Risk Score by Vehicle Age",
                    "x": 0.73,
                    "xanchor": "center",
                    "xref": "paper",
                    "y": 0.44,
                    "yanchor": "bottom",
                    "yref": "paper"
                  }
                ],
                "height": 800,
                "showlegend": true,
                "template": {
                  "data": {
                    "bar": [
                      {
                        "error_x": {
                          "color": "#2a3f5f"
                        },
                        "error_y": {
                          "color": "#2a3f5f"
                        },
                        "marker": {
                          "line": {
                            "color": "#E5ECF6",
                            "width": 0.5
                          },
                          "pattern": {
                            "fillmode": "overlay",
                            "size": 10,
                            "solidity": 0.2
                          }
                        },
                        "type": "bar"
                      }
                    ],
                    "barpolar": [
                      {
                        "marker": {
                          "line": {
                            "color": "#E5ECF6",
                            "width": 0.5
                          },
                          "pattern": {
                            "fillmode": "overlay",
                            "size": 10,
                            "solidity": 0.2
                          }
                        },
                        "type": "barpolar"
                      }
                    ],
                    "carpet": [
                      {
                        "aaxis": {
                          "endlinecolor": "#2a3f5f",
                          "gridcolor": "white",
                          "linecolor": "white",
                          "minorgridcolor": "white",
                          "startlinecolor": "#2a3f5f"
                        },
                        "baxis": {
                          "endlinecolor": "#2a3f5f",
                          "gridcolor": "white",
                          "linecolor": "white",
                          "minorgridcolor": "white",
                          "startlinecolor": "#2a3f5f"
                        },
                        "type": "carpet"
                      }
                    ],
                    "choropleth": [
                      {
                        "colorbar": {
                          "outlinewidth": 0,
                          "ticks": ""
                        },
                        "type": "choropleth"
                      }
                    ],
                    "contour": [
                      {
                        "colorbar": {
                          "outlinewidth": 0,
                          "ticks": ""
                        },
                        "colorscale": [
                          [
                            0,
                            "#0d0887"
                          ],
                          [
                            0.1111111111111111,
                            "#46039f"
                          ],
                          [
                            0.2222222222222222,
                            "#7201a8"
                          ],
                          [
                            0.3333333333333333,
                            "#9c179e"
                          ],
                          [
                            0.4444444444444444,
                            "#bd3786"
                          ],
                          [
                            0.5555555555555556,
                            "#d8576b"
                          ],
                          [
                            0.6666666666666666,
                            "#ed7953"
                          ],
                          [
                            0.7777777777777778,
                            "#fb9f3a"
                          ],
                          [
                            0.8888888888888888,
                            "#fdca26"
                          ],
                          [
                            1,
                            "#f0f921"
                          ]
                        ],
                        "type": "contour"
                      }
                    ],
                    "contourcarpet": [
                      {
                        "colorbar": {
                          "outlinewidth": 0,
                          "ticks": ""
                        },
                        "type": "contourcarpet"
                      }
                    ],
                    "heatmap": [
                      {
                        "colorbar": {
                          "outlinewidth": 0,
                          "ticks": ""
                        },
                        "colorscale": [
                          [
                            0,
                            "#0d0887"
                          ],
                          [
                            0.1111111111111111,
                            "#46039f"
                          ],
                          [
                            0.2222222222222222,
                            "#7201a8"
                          ],
                          [
                            0.3333333333333333,
                            "#9c179e"
                          ],
                          [
                            0.4444444444444444,
                            "#bd3786"
                          ],
                          [
                            0.5555555555555556,
                            "#d8576b"
                          ],
                          [
                            0.6666666666666666,
                            "#ed7953"
                          ],
                          [
                            0.7777777777777778,
                            "#fb9f3a"
                          ],
                          [
                            0.8888888888888888,
                            "#fdca26"
                          ],
                          [
                            1,
                            "#f0f921"
                          ]
                        ],
                        "type": "heatmap"
                      }
                    ],
                    "heatmapgl": [
                      {
                        "colorbar": {
                          "outlinewidth": 0,
                          "ticks": ""
                        },
                        "colorscale": [
                          [
                            0,
                            "#0d0887"
                          ],
                          [
                            0.1111111111111111,
                            "#46039f"
                          ],
                          [
                            0.2222222222222222,
                            "#7201a8"
                          ],
                          [
                            0.3333333333333333,
                            "#9c179e"
                          ],
                          [
                            0.4444444444444444,
                            "#bd3786"
                          ],
                          [
                            0.5555555555555556,
                            "#d8576b"
                          ],
                          [
                            0.6666666666666666,
                            "#ed7953"
                          ],
                          [
                            0.7777777777777778,
                            "#fb9f3a"
                          ],
                          [
                            0.8888888888888888,
                            "#fdca26"
                          ],
                          [
                            1,
                            "#f0f921"
                          ]
                        ],
                        "type": "heatmapgl"
                      }
                    ],
                    "histogram": [
                      {
                        "marker": {
                          "pattern": {
                            "fillmode": "overlay",
                            "size": 10,
                            "solidity": 0.2
                          }
                        },
                        "type": "histogram"
                      }
                    ],
                    "histogram2d": [
                      {
                        "colorbar": {
                          "outlinewidth": 0,
                          "ticks": ""
                        },
                        "colorscale": [
                          [
                            0,
                            "#0d0887"
                          ],
                          [
                            0.1111111111111111,
                            "#46039f"
                          ],
                          [
                            0.2222222222222222,
                            "#7201a8"
                          ],
                          [
                            0.3333333333333333,
                            "#9c179e"
                          ],
                          [
                            0.4444444444444444,
                            "#bd3786"
                          ],
                          [
                            0.5555555555555556,
                            "#d8576b"
                          ],
                          [
                            0.6666666666666666,
                            "#ed7953"
                          ],
                          [
                            0.7777777777777778,
                            "#fb9f3a"
                          ],
                          [
                            0.8888888888888888,
                            "#fdca26"
                          ],
                          [
                            1,
                            "#f0f921"
                          ]
                        ],
                        "type": "histogram2d"
                      }
                    ],
                    "histogram2dcontour": [
                      {
                        "colorbar": {
                          "outlinewidth": 0,
                          "ticks": ""
                        },
                        "colorscale": [
                          [
                            0,
                            "#0d0887"
                          ],
                          [
                            0.1111111111111111,
                            "#46039f"
                          ],
                          [
                            0.2222222222222222,
                            "#7201a8"
                          ],
                          [
                            0.3333333333333333,
                            "#9c179e"
                          ],
                          [
                            0.4444444444444444,
                            "#bd3786"
                          ],
                          [
                            0.5555555555555556,
                            "#d8576b"
                          ],
                          [
                            0.6666666666666666,
                            "#ed7953"
                          ],
                          [
                            0.7777777777777778,
                            "#fb9f3a"
                          ],
                          [
                            0.8888888888888888,
                            "#fdca26"
                          ],
                          [
                            1,
                            "#f0f921"
                          ]
                        ],
                        "type": "histogram2dcontour"
                      }
                    ],
                    "mesh3d": [
                      {
                        "colorbar": {
                          "outlinewidth": 0,
                          "ticks": ""
                        },
                        "type": "mesh3d"
                      }
                    ],
                    "parcoords": [
                      {
                        "line": {
                          "colorbar": {
                            "outlinewidth": 0,
                            "ticks": ""
                          }
                        },
                        "type": "parcoords"
                      }
                    ],
                    "pie": [
                      {
                        "automargin": true,
                        "type": "pie"
                      }
                    ],
                    "scatter": [
                      {
                        "marker": {
                          "colorbar": {
                            "outlinewidth": 0,
                            "ticks": ""
                          }
                        },
                        "type": "scatter"
                      }
                    ],
                    "scatter3d": [
                      {
                        "line": {
                          "colorbar": {
                            "outlinewidth": 0,
                            "ticks": ""
                          }
                        },
                        "marker": {
                          "colorbar": {
                            "outlinewidth": 0,
                            "ticks": ""
                          }
                        },
                        "type": "scatter3d"
                      }
                    ],
                    "scattercarpet": [
                      {
                        "marker": {
                          "colorbar": {
                            "outlinewidth": 0,
                            "ticks": ""
                          }
                        },
                        "type": "scattercarpet"
                      }
                    ],
                    "scattergeo": [
                      {
                        "marker": {
                          "colorbar": {
                            "outlinewidth": 0,
                            "ticks": ""
                          }
                        },
                        "type": "scattergeo"
                      }
                    ],
                    "scattergl": [
                      {
                        "marker": {
                          "colorbar": {
                            "outlinewidth": 0,
                            "ticks": ""
                          }
                        },
                        "type": "scattergl"
                      }
                    ],
                    "scattermapbox": [
                      {
                        "marker": {
                          "colorbar": {
                            "outlinewidth": 0,
                            "ticks": ""
                          }
                        },
                        "type": "scattermapbox"
                      }
                    ],
                    "scatterpolar": [
                      {
                        "marker": {
                          "colorbar": {
                            "outlinewidth": 0,
                            "ticks": ""
                          }
                        },
                        "type": "scatterpolar"
                      }
                    ],
                    "scatterpolargl": [
                      {
                        "marker": {
                          "colorbar": {
                            "outlinewidth": 0,
                            "ticks": ""
                          }
                        },
                        "type": "scatterpolargl"
                      }
                    ],
                    "scatterternary": [
                      {
                        "marker": {
                          "colorbar": {
                            "outlinewidth": 0,
                            "ticks": ""
                          }
                        },
                        "type": "scatterternary"
                      }
                    ],
                    "surface": [
                      {
                        "colorbar": {
                          "outlinewidth": 0,
                          "ticks": ""
                        },
                        "colorscale": [
                          [
                            0,
                            "#0d0887"
                          ],
                          [
                            0.1111111111111111,
                            "#46039f"
                          ],
                          [
                            0.2222222222222222,
                            "#7201a8"
                          ],
                          [
                            0.3333333333333333,
                            "#9c179e"
                          ],
                          [
                            0.4444444444444444,
                            "#bd3786"
                          ],
                          [
                            0.5555555555555556,
                            "#d8576b"
                          ],
                          [
                            0.6666666666666666,
                            "#ed7953"
                          ],
                          [
                            0.7777777777777778,
                            "#fb9f3a"
                          ],
                          [
                            0.8888888888888888,
                            "#fdca26"
                          ],
                          [
                            1,
                            "#f0f921"
                          ]
                        ],
                        "type": "surface"
                      }
                    ],
                    "table": [
                      {
                        "cells": {
                          "fill": {
                            "color": "#EBF0F8"
                          },
                          "line": {
                            "color": "white"
                          }
                        },
                        "header": {
                          "fill": {
                            "color": "#C8D4E3"
                          },
                          "line": {
                            "color": "white"
                          }
                        },
                        "type": "table"
                      }
                    ]
                  },
                  "layout": {
                    "annotationdefaults": {
                      "arrowcolor": "#2a3f5f",
                      "arrowhead": 0,
                      "arrowwidth": 1
                    },
                    "autotypenumbers": "strict",
                    "coloraxis": {
                      "colorbar": {
                        "outlinewidth": 0,
                        "ticks": ""
                      }
                    },
                    "colorscale": {
                      "diverging": [
                        [
                          0,
                          "#8e0152"
                        ],
                        [
                          0.1,
                          "#c51b7d"
                        ],
                        [
                          0.2,
                          "#de77ae"
                        ],
                        [
                          0.3,
                          "#f1b6da"
                        ],
                        [
                          0.4,
                          "#fde0ef"
                        ],
                        [
                          0.5,
                          "#f7f7f7"
                        ],
                        [
                          0.6,
                          "#e6f5d0"
                        ],
                        [
                          0.7,
                          "#b8e186"
                        ],
                        [
                          0.8,
                          "#7fbc41"
                        ],
                        [
                          0.9,
                          "#4d9221"
                        ],
                        [
                          1,
                          "#276419"
                        ]
                      ],
                      "sequential": [
                        [
                          0,
                          "#0d0887"
                        ],
                        [
                          0.1111111111111111,
                          "#46039f"
                        ],
                        [
                          0.2222222222222222,
                          "#7201a8"
                        ],
                        [
                          0.3333333333333333,
                          "#9c179e"
                        ],
                        [
                          0.4444444444444444,
                          "#bd3786"
                        ],
                        [
                          0.5555555555555556,
                          "#d8576b"
                        ],
                        [
                          0.6666666666666666,
                          "#ed7953"
                        ],
                        [
                          0.7777777777777778,
                          "#fb9f3a"
                        ],
                        [
                          0.8888888888888888,
                          "#fdca26"
                        ],
                        [
                          1,
                          "#f0f921"
                        ]
                      ],
                      "sequentialminus": [
                        [
                          0,
                          "#0d0887"
                        ],
                        [
                          0.1111111111111111,
                          "#46039f"
                        ],
                        [
                          0.2222222222222222,
                          "#7201a8"
                        ],
                        [
                          0.3333333333333333,
                          "#9c179e"
                        ],
                        [
                          0.4444444444444444,
                          "#bd3786"
                        ],
                        [
                          0.5555555555555556,
                          "#d8576b"
                        ],
                        [
                          0.6666666666666666,
                          "#ed7953"
                        ],
                        [
                          0.7777777777777778,
                          "#fb9f3a"
                        ],
                        [
                          0.8888888888888888,
                          "#fdca26"
                        ],
                        [
                          1,
                          "#f0f921"
                        ]
                      ]
                    },
                    "colorway": [
                      "#636efa",
                      "#EF553B",
                      "#00cc96",
                      "#ab63fa",
                      "#FFA15A",
                      "#19d3f3",
                      "#FF6692",
                      "#B6E880",
                      "#FF97FF",
                      "#FECB52"
                    ],
                    "font": {
                      "color": "#2a3f5f"
                    },
                    "geo": {
                      "bgcolor": "white",
                      "lakecolor": "white",
                      "landcolor": "#E5ECF6",
                      "showlakes": true,
                      "showland": true,
                      "subunitcolor": "white"
                    },
                    "hoverlabel": {
                      "align": "left"
                    },
                    "hovermode": "closest",
                    "mapbox": {
                      "style": "light"
                    },
                    "paper_bgcolor": "white",
                    "plot_bgcolor": "#E5ECF6",
                    "polar": {
                      "angularaxis": {
                        "gridcolor": "white",
                        "linecolor": "white",
                        "ticks": ""
                      },
                      "bgcolor": "#E5ECF6",
                      "radialaxis": {
                        "gridcolor": "white",
                        "linecolor": "white",
                        "ticks": ""
                      }
                    },
                    "scene": {
                      "xaxis": {
                        "backgroundcolor": "#E5ECF6",
                        "gridcolor": "white",
                        "gridwidth": 2,
                        "linecolor": "white",
                        "showbackground": true,
                        "ticks": "",
                        "zerolinecolor": "white"
                      },
                      "yaxis": {
                        "backgroundcolor": "#E5ECF6",
                        "gridcolor": "white",
                        "gridwidth": 2,
                        "linecolor": "white",
                        "showbackground": true,
                        "ticks": "",
                        "zerolinecolor": "white"
                      },
                      "zaxis": {
                        "backgroundcolor": "#E5ECF6",
                        "gridcolor": "white",
                        "gridwidth": 2,
                        "linecolor": "white",
                        "showbackground": true,
                        "ticks": "",
                        "zerolinecolor": "white"
                      }
                    },
                    "shapedefaults": {
                      "line": {
                        "color": "#2a3f5f"
                      }
                    },
                    "ternary": {
                      "aaxis": {
                        "gridcolor": "white",
                        "linecolor": "white",
                        "ticks": ""
                      },
                      "baxis": {
                        "gridcolor": "white",
                        "linecolor": "white",
                        "ticks": ""
                      },
                      "bgcolor": "#E5ECF6",
                      "caxis": {
                        "gridcolor": "white",
                        "linecolor": "white",
                        "ticks": ""
                      }
                    },
                    "title": {
                      "x": 0.05
                    },
                    "xaxis": {
                      "automargin": true,
                      "gridcolor": "white",
                      "linecolor": "white",
                      "ticks": "",
                      "title": {
                        "standoff": 15
                      },
                      "zerolinecolor": "white",
                      "zerolinewidth": 2
                    },
                    "yaxis": {
                      "automargin": true,
                      "gridcolor": "white",
                      "linecolor": "white",
                      "ticks": "",
                      "title": {
                        "standoff": 15
                      },
                      "zerolinecolor": "white",
                      "zerolinewidth": 2
                    }
                  }
                },
                "title": {
                  "font": {
                    "size": 18
                  },
                  "text": "📊 Insurance Analytics Dashboard: Temporal & Risk Evolution",
                  "x": 0.5
                },
                "width": 1200,
                "xaxis": {
                  "anchor": "y",
                  "domain": [
                    0,
                    0.42
                  ]
                },
                "xaxis2": {
                  "anchor": "y3",
                  "domain": [
                    0.52,
                    0.94
                  ]
                },
                "xaxis3": {
                  "anchor": "y4",
                  "domain": [
                    0,
                    0.42
                  ],
                  "title": {
                    "text": "Month"
                  }
                },
                "xaxis4": {
                  "anchor": "y6",
                  "domain": [
                    0.52,
                    0.94
                  ],
                  "title": {
                    "text": "Vehicle Age (Years)"
                  }
                },
                "yaxis": {
                  "anchor": "x",
                  "domain": [
                    0.56,
                    1
                  ],
                  "title": {
                    "text": "Claim Frequency (%)"
                  }
                },
                "yaxis2": {
                  "anchor": "x",
                  "overlaying": "y",
                  "side": "right",
                  "title": {
                    "text": "Policy Count"
                  }
                },
                "yaxis3": {
                  "anchor": "x2",
                  "domain": [
                    0.56,
                    1
                  ],
                  "title": {
                    "text": "Loss Ratio"
                  }
                },
                "yaxis4": {
                  "anchor": "x3",
                  "domain": [
                    0,
                    0.44
                  ],
                  "title": {
                    "text": "Premium Volume ($)"
                  }
                },
                "yaxis5": {
                  "anchor": "x3",
                  "overlaying": "y4",
                  "side": "right",
                  "title": {
                    "text": "Claims Volume ($)"
                  }
                },
                "yaxis6": {
                  "anchor": "x4",
                  "domain": [
                    0,
                    0.44
                  ],
                  "title": {
                    "text": "Risk Score"
                  }
                }
              }
            }
          },
          "metadata": {},
          "output_type": "display_data"
        },
        {
          "name": "stdout",
          "output_type": "stream",
          "text": [
            "✅ Dashboard created - Comprehensive view of temporal trends and risk factors\n"
          ]
        }
      ],
      "source": [
        "# VISUALIZATION 3: Temporal Evolution Dashboard with Multiple Metrics\n",
        "print(\"🎨 Creating Visualization 3: Temporal Evolution Dashboard\")\n",
        "\n",
        "# Create subplots\n",
        "fig3 = make_subplots(\n",
        "    rows=2, cols=2,\n",
        "    subplot_titles=('Monthly Claim Frequency Trend', 'Monthly Loss Ratio Evolution',\n",
        "                   'Premium vs Claims Volume', 'Risk Score by Vehicle Age'),\n",
        "    specs=[[{\"secondary_y\": True}, {\"secondary_y\": False}],\n",
        "           [{\"secondary_y\": True}, {\"secondary_y\": False}]],\n",
        "    vertical_spacing=0.12,\n",
        "    horizontal_spacing=0.1\n",
        ")\n",
        "\n",
        "# Convert Year_Month to string for plotting\n",
        "monthly_stats['Month_Str'] = monthly_stats['Year_Month'].astype(str)\n",
        "\n",
        "# Plot 1: Claim Frequency Trend with Volume\n",
        "fig3.add_trace(\n",
        "    go.Scatter(x=monthly_stats['Month_Str'], y=monthly_stats['Claim_Frequency'],\n",
        "               mode='lines+markers', name='Claim Frequency (%)',\n",
        "               line=dict(color='red', width=3)),\n",
        "    row=1, col=1\n",
        ")\n",
        "fig3.add_trace(\n",
        "    go.Bar(x=monthly_stats['Month_Str'], y=monthly_stats['TotalPremium_count'],\n",
        "           name='Policy Count', opacity=0.6, marker_color='lightblue'),\n",
        "    row=1, col=1, secondary_y=True\n",
        ")\n",
        "\n",
        "# Plot 2: Loss Ratio Evolution\n",
        "fig3.add_trace(\n",
        "    go.Scatter(x=monthly_stats['Month_Str'], y=monthly_stats['Loss_Ratio'],\n",
        "               mode='lines+markers', name='Loss Ratio',\n",
        "               line=dict(color='orange', width=3), fill='tonexty'),\n",
        "    row=1, col=2\n",
        ")\n",
        "\n",
        "# Plot 3: Premium vs Claims Volume\n",
        "fig3.add_trace(\n",
        "    go.Scatter(x=monthly_stats['Month_Str'], y=monthly_stats['TotalPremium_sum'],\n",
        "               mode='lines+markers', name='Premium Volume',\n",
        "               line=dict(color='green', width=2)),\n",
        "    row=2, col=1\n",
        ")\n",
        "fig3.add_trace(\n",
        "    go.Scatter(x=monthly_stats['Month_Str'], y=monthly_stats['TotalClaims_sum'],\n",
        "               mode='lines+markers', name='Claims Volume',\n",
        "               line=dict(color='red', width=2)),\n",
        "    row=2, col=1, secondary_y=True\n",
        ")\n",
        "\n",
        "# Plot 4: Risk Score by Vehicle Age\n",
        "age_risk = df.groupby('VehicleAge').agg({\n",
        "    'HasClaim': 'mean',\n",
        "    'TotalClaims': 'mean'\n",
        "}).reset_index()\n",
        "age_risk['Risk_Score'] = age_risk['HasClaim'] * age_risk['TotalClaims']\n",
        "\n",
        "fig3.add_trace(\n",
        "    go.Bar(x=age_risk['VehicleAge'], y=age_risk['Risk_Score'],\n",
        "           name='Risk Score', marker_color='purple'),\n",
        "    row=2, col=2\n",
        ")\n",
        "\n",
        "# Update layout\n",
        "fig3.update_layout(\n",
        "    title_text=\"Insurance Analytics Dashboard: Temporal & Risk Evolution\",\n",
        "    title_x=0.5,\n",
        "    title_font_size=18,\n",
        "    height=800,\n",
        "    width=1200,\n",
        "    showlegend=True\n",
        ")\n",
        "\n",
        "# Update y-axis labels\n",
        "fig3.update_yaxes(title_text=\"Claim Frequency (%)\", row=1, col=1)\n",
        "fig3.update_yaxes(title_text=\"Policy Count\", row=1, col=1, secondary_y=True)\n",
        "fig3.update_yaxes(title_text=\"Loss Ratio\", row=1, col=2)\n",
        "fig3.update_yaxes(title_text=\"Premium Volume ($)\", row=2, col=1)\n",
        "fig3.update_yaxes(title_text=\"Claims Volume ($)\", row=2, col=1, secondary_y=True)\n",
        "fig3.update_yaxes(title_text=\"Risk Score\", row=2, col=2)\n",
        "\n",
        "# Update x-axis labels\n",
        "fig3.update_xaxes(title_text=\"Month\", row=2, col=1)\n",
        "fig3.update_xaxes(title_text=\"Month\", row=2, col=2)\n",
        "fig3.update_xaxes(title_text=\"Vehicle Age (Years)\", row=2, col=2)\n",
        "\n",
        "fig3.show()\n",
        "print(\"Dashboard created - Comprehensive view of temporal trends and risk factors\")\n"
      ]
    },
    {
      "cell_type": "raw",
      "metadata": {
        "vscode": {
          "languageId": "raw"
        }
      },
      "source": [
        "## 📋 Key Findings & Business Insights\n",
        "\n",
        "### 🎯 Summary of Findings:\n",
        "\n",
        "1. **Loss Ratio Analysis**\n",
        "   - Overall portfolio loss ratio indicates profitability health\n",
        "   - Significant variations exist across provinces and vehicle types\n",
        "   - Gender-based differences reveal pricing optimization opportunities\n",
        "\n",
        "2. **Financial Variables Distribution**\n",
        "   - Non-normal distributions in claims data suggest exponential/gamma models for pricing\n",
        "   - Outliers present in high-value claims requiring special handling\n",
        "   - Premium distributions show good spread across risk segments\n",
        "\n",
        "3. **Temporal Trends**\n",
        "   - Seasonal patterns in claim frequency and severity\n",
        "   - Monthly variations provide insights for cash flow planning\n",
        "   - Trend analysis reveals portfolio evolution over 18-month period\n",
        "\n",
        "4. **Vehicle Risk Factors**\n",
        "   - Clear risk differentiation by vehicle make and type\n",
        "   - Vehicle age correlation with claim patterns\n",
        "   - High-value vehicles show different risk profiles\n",
        "\n",
        "### 💡 Business Recommendations:\n",
        "\n",
        "1. **Pricing Strategy**: Adjust premiums based on identified high-risk segments\n",
        "2. **Portfolio Management**: Monitor concentration in high-loss-ratio segments\n",
        "3. **Risk Assessment**: Incorporate vehicle age and type in risk scoring\n",
        "4. **Seasonal Planning**: Prepare for identified seasonal claim patterns\n",
        "\n",
        "### 📊 Statistical Validation:\n",
        "- All analyses use appropriate statistical tests for significance\n",
        "- Confidence intervals calculated for key metrics\n",
        "- Correlation analysis validates relationships between variables\n",
        "\n",
        "---\n",
        "\n",
        "*Next Steps: Feature Engineering and Predictive Modeling*\n"
      ]
    }
  ],
  "metadata": {
    "kernelspec": {
      "display_name": "Python 3",
      "language": "python",
      "name": "python3"
    },
    "language_info": {
      "codemirror_mode": {
        "name": "ipython",
        "version": 3
      },
      "file_extension": ".py",
      "mimetype": "text/x-python",
      "name": "python",
      "nbconvert_exporter": "python",
      "pygments_lexer": "ipython3",
      "version": "3.11.4"
    }
  },
  "nbformat": 4,
  "nbformat_minor": 2
}
